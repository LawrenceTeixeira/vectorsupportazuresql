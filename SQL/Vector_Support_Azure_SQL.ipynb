{
    "metadata": {
        "kernelspec": {
            "name": "SQL",
            "display_name": "SQL",
            "language": "sql"
        },
        "language_info": {
            "name": "sql",
            "version": ""
        }
    },
    "nbformat_minor": 2,
    "nbformat": 4,
    "cells": [
        {
            "cell_type": "markdown",
            "source": [
                "# **Navigating Vector Operations in Azure SQL for Better Data Insights: A Guide How to Use Generative AI**"
            ],
            "metadata": {
                "azdata_cell_guid": "46652631-69f9-4e49-881d-bcdbe0238111"
            },
            "attachments": {}
        },
        {
            "cell_type": "markdown",
            "source": [
                "# This example uses the [Global News Dataset](https:\\www.kaggle.com\\datasets\\everydaycodings\\global-news-dataset) <span style=\"color: rgb(37, 51, 95); font-family: Merriweather, Georgia, serif; font-size: 16px;\">from</span> [Kaggle](https:\\www.kaggle.com\\) dataset."
            ],
            "metadata": {
                "azdata_cell_guid": "b272e196-b886-46c6-bf8e-ef188cacfea9"
            },
            "attachments": {}
        },
        {
            "cell_type": "code",
            "source": [
                "select top 10 n.published, n.category, n.source_name, n.title, n.[description], n.content from newsvector n"
            ],
            "metadata": {
                "azdata_cell_guid": "bd9a423a-0e00-4832-a191-d2ef986d4656",
                "language": "sql",
                "tags": [
                    "hide_input"
                ]
            },
            "outputs": [
                {
                    "output_type": "display_data",
                    "data": {
                        "text/html": "(10 rows affected)"
                    },
                    "metadata": {}
                },
                {
                    "output_type": "display_data",
                    "data": {
                        "text/html": "Total execution time: 00:00:00.126"
                    },
                    "metadata": {}
                },
                {
                    "output_type": "execute_result",
                    "execution_count": 1,
                    "data": {
                        "application/vnd.dataresource+json": {
                            "schema": {
                                "fields": [
                                    {
                                        "name": "published"
                                    },
                                    {
                                        "name": "category"
                                    },
                                    {
                                        "name": "source_name"
                                    },
                                    {
                                        "name": "title"
                                    },
                                    {
                                        "name": "description"
                                    },
                                    {
                                        "name": "content"
                                    }
                                ]
                            },
                            "data": [
                                {
                                    "published": "2023-10-23 20:55:00",
                                    "category": "South Africa",
                                    "source_name": "Phys.Org",
                                    "title": "First confirmed cases of avian influenza in the Antarctic region",
                                    "description": "Highly pathogenic avian influenza (HPAI) has been confirmed in brown skua populations on Bird Island, South Georgia—the first known cases in the Antarctic region.",
                                    "content": "Highly pathogenic avian influenza (HPAI) has been confirmed in brown skua populations on Bird Island, South Georgiathe first known cases in the Antarctic region.\nFollowing reports of several potenti… [+4787 chars]"
                                },
                                {
                                    "published": "2023-10-17 06:59:00",
                                    "category": "Zimbabwe",
                                    "source_name": "Marketscreener.com",
                                    "title": "ZB Financial : Appointment of Board Chairman",
                                    "description": "(marketscreener.com) \n \n \n APPOINTMENT OF BOARD CHAIRMAN\n \n \n \n \n \n Luxon Zembe\n \n \n Chairman of ZB Financial Holdings Limited FIOD; CFCIPD; FZIM; FIPMZ; PHF; MBA.\n \n \n The Board of Directors of ZB Financial Holdings Limited is pleased to announce...https://w…",
                                    "content": "Luxon Zembe\nChairman of ZB Financial Holdings Limited FIOD; CFCIPD(UK); FZIM; FIPMZ; PHF; MBA.\nThe Board of Directors of ZB Financial Holdings Limited is pleased to announce the appointment of Luxo… [+3708 chars]"
                                },
                                {
                                    "published": "2023-10-06 16:10:00",
                                    "category": "South Africa",
                                    "source_name": "The Indian Express",
                                    "title": "Cricket World Cup: ‘Grateful that I never chased my childhood dream’: Tabraiz Shamsi on his obsession with pace bowling",
                                    "description": "South African Chinaman bowler speaks about why leg-spinners are emotional and why they need backing from their captains and coaches, and an arm around their shoulders when chips are down.",
                                    "content": "Growing up in Johannesburg, Tabraiz Shamsi wanted to be a left-arm pacer for South Africa, idolising Wasim Akram and Chaminda Vaas. But now he is relieved to have given up on his childhood dream, and… [+5530 chars]"
                                },
                                {
                                    "published": "2023-10-17 07:07:00",
                                    "category": "Zambia",
                                    "source_name": "Marketscreener.com",
                                    "title": "Jubilee Metals : to process Mopani Copper Mine slag after JV agreement",
                                    "description": "(marketscreener.com) \n \n Jubilee Metals Group PLC has been awarded a \"large\" Mufulira slag processing contract through a joint venture collaboration with Mopani Copper Mines .\n \n \n Through the agreement, Jubilee will process approximately 13 million tonnes of…",
                                    "content": "Jubilee Metals Group PLC (AIM:JLP, JSE:JBL, OTC:JUBPF)\nhas been awarded a \"large\" Mufulira slag processing contract through a joint venture collaboration with Mopani Copper Mines (MCM).\nThrough the… [+2003 chars]"
                                },
                                {
                                    "published": "2023-10-19 12:02:00",
                                    "category": "Zimbabwe",
                                    "source_name": "Marketscreener.com",
                                    "title": "Caledonia explores funding options to build Zimbabwe's biggest gold mine",
                                    "description": "(marketscreener.com) Caledonia Mining Corp\nis exploring options to raise $250 million needed to\ndevelop its Bilboes project into what could be Zimbabwe's\nbiggest gold mine.\n The company, which also owns the Blanket gold mine in\nZimbabwe, could raise the money…",
                                    "content": "* Gold miner wants to raise $250 million for Bilboes mine\n* New mine could boost Caledonia's output to 250,000 ounces\nHARARE, Oct 19 (Reuters) - Caledonia Mining Corp\nis exploring options to raise… [+2433 chars]"
                                },
                                {
                                    "published": "2023-10-05 06:57:00",
                                    "category": "Zimbabwe",
                                    "source_name": "Marketscreener.com",
                                    "title": "CBZ : Dividend Notice",
                                    "description": "(marketscreener.com) \n \n \n Notice to Shareholders\n \n \n Interim Dividend Declaration\n \n \n Notice to Shareholders\n \n \n Notice is hereby given that the Board declared a final interim dividend of US$3,000,000.00 for half year ended 30 June 2023 payable in respect…",
                                    "content": "Notice to Shareholders\nInterim Dividend Declaration\nNotice to Shareholders\nNotice is hereby given that the Board declared a final interim dividend of US$3,000,000.00 (0.4817 US cents per share) fo… [+2281 chars]"
                                },
                                {
                                    "published": "2023-10-02 13:44:00",
                                    "category": "South Africa",
                                    "source_name": "RT",
                                    "title": "Pretoria plans new model of electricity provision in South Africa",
                                    "description": "South Africa’s parliament says public consultations have begun over legislation that will transform the country’s electricity market Read Full Article at RT.com",
                                    "content": "South Africa’s parliament said it plans to hold more public hearings on the country’s proposed Electricity Regulation Amendment Bill, which is expected to pave the way for a new transmission company … [+1714 chars]"
                                },
                                {
                                    "published": "2023-10-02 12:03:00",
                                    "category": "Zimbabwe",
                                    "source_name": "The Times of India",
                                    "title": "Zimbabwe searches for mine survivors as relatives lose hope",
                                    "description": "Authorities in Zimbabwe are continuing their search for survivors after a disused gold mine collapsed, trapping miners underground. Accidents in abandoned mines are common in the country, as artisanal miners ignore safety regulations. The incident occurred in…",
                                    "content": "15 Indian states and their traditional weaves and fabrics"
                                },
                                {
                                    "published": "2023-10-02 23:15:00",
                                    "category": "Zimbabwe",
                                    "source_name": "The Times of India",
                                    "title": "Indian tycoon, son killed in a plane crash in Zimbabwe",
                                    "description": "Rest of World News: JOHANNESBURG: An Indian billionaire and his son were among six individuals killed when their private plane crashed near a diamond mine in Zimbabwe aft.",
                                    "content": "15 Indian states and their traditional weaves and fabrics"
                                },
                                {
                                    "published": "2023-10-21 19:00:00",
                                    "category": "South Africa",
                                    "source_name": "Digital Trends",
                                    "title": "5 movies like Killers of the Flower Moon you should watch",
                                    "description": "From a moody Brad Pitt Western to a shocking true crime story, these five movies should be watched if you liked Martin Scorsese's Killers of the Flower Moon.",
                                    "content": "The Assassination of Jesse James by the Coward Robert FordWarner Bros.\nAfter years of anticipation, Martin Scorsese’s latest movie, Killers of the Flower Moon, is finally here. The film, an adaptati… [+4393 chars]"
                                }
                            ]
                        },
                        "text/html": "<table><tr><th>published</th><th>category</th><th>source_name</th><th>title</th><th>description</th><th>content</th></tr><tr><td>2023-10-23 20:55:00</td><td>South Africa</td><td>Phys.Org</td><td>First confirmed cases of avian influenza in the Antarctic region</td><td>Highly pathogenic avian influenza (HPAI) has been confirmed in brown skua populations on Bird Island, South Georgia—the first known cases in the Antarctic region.</td><td>Highly pathogenic avian influenza (HPAI) has been confirmed in brown skua populations on Bird Island, South Georgiathe first known cases in the Antarctic region.\nFollowing reports of several potenti… [+4787 chars]</td></tr><tr><td>2023-10-17 06:59:00</td><td>Zimbabwe</td><td>Marketscreener.com</td><td>ZB Financial : Appointment of Board Chairman</td><td>(marketscreener.com) \n \n \n APPOINTMENT OF BOARD CHAIRMAN\n \n \n \n \n \n Luxon Zembe\n \n \n Chairman of ZB Financial Holdings Limited FIOD; CFCIPD; FZIM; FIPMZ; PHF; MBA.\n \n \n The Board of Directors of ZB Financial Holdings Limited is pleased to announce...https://w…</td><td>Luxon Zembe\nChairman of ZB Financial Holdings Limited FIOD; CFCIPD(UK); FZIM; FIPMZ; PHF; MBA.\nThe Board of Directors of ZB Financial Holdings Limited is pleased to announce the appointment of Luxo… [+3708 chars]</td></tr><tr><td>2023-10-06 16:10:00</td><td>South Africa</td><td>The Indian Express</td><td>Cricket World Cup: ‘Grateful that I never chased my childhood dream’: Tabraiz Shamsi on his obsession with pace bowling</td><td>South African Chinaman bowler speaks about why leg-spinners are emotional and why they need backing from their captains and coaches, and an arm around their shoulders when chips are down.</td><td>Growing up in Johannesburg, Tabraiz Shamsi wanted to be a left-arm pacer for South Africa, idolising Wasim Akram and Chaminda Vaas. But now he is relieved to have given up on his childhood dream, and… [+5530 chars]</td></tr><tr><td>2023-10-17 07:07:00</td><td>Zambia</td><td>Marketscreener.com</td><td>Jubilee Metals : to process Mopani Copper Mine slag after JV agreement</td><td>(marketscreener.com) \n \n Jubilee Metals Group PLC has been awarded a &quot;large&quot; Mufulira slag processing contract through a joint venture collaboration with Mopani Copper Mines .\n \n \n Through the agreement, Jubilee will process approximately 13 million tonnes of…</td><td>Jubilee Metals Group PLC (AIM:JLP, JSE:JBL, OTC:JUBPF)\nhas been awarded a &quot;large&quot; Mufulira slag processing contract through a joint venture collaboration with Mopani Copper Mines (MCM).\nThrough the… [+2003 chars]</td></tr><tr><td>2023-10-19 12:02:00</td><td>Zimbabwe</td><td>Marketscreener.com</td><td>Caledonia explores funding options to build Zimbabwe&#39;s biggest gold mine</td><td>(marketscreener.com) Caledonia Mining Corp\nis exploring options to raise $250 million needed to\ndevelop its Bilboes project into what could be Zimbabwe&#39;s\nbiggest gold mine.\n The company, which also owns the Blanket gold mine in\nZimbabwe, could raise the money…</td><td>* Gold miner wants to raise $250 million for Bilboes mine\n* New mine could boost Caledonia&#39;s output to 250,000 ounces\nHARARE, Oct 19 (Reuters) - Caledonia Mining Corp\nis exploring options to raise… [+2433 chars]</td></tr><tr><td>2023-10-05 06:57:00</td><td>Zimbabwe</td><td>Marketscreener.com</td><td>CBZ : Dividend Notice</td><td>(marketscreener.com) \n \n \n Notice to Shareholders\n \n \n Interim Dividend Declaration\n \n \n Notice to Shareholders\n \n \n Notice is hereby given that the Board declared a final interim dividend of US$3,000,000.00 for half year ended 30 June 2023 payable in respect…</td><td>Notice to Shareholders\nInterim Dividend Declaration\nNotice to Shareholders\nNotice is hereby given that the Board declared a final interim dividend of US$3,000,000.00 (0.4817 US cents per share) fo… [+2281 chars]</td></tr><tr><td>2023-10-02 13:44:00</td><td>South Africa</td><td>RT</td><td>Pretoria plans new model of electricity provision in South Africa</td><td>South Africa’s parliament says public consultations have begun over legislation that will transform the country’s electricity market Read Full Article at RT.com</td><td>South Africa’s parliament said it plans to hold more public hearings on the country’s proposed Electricity Regulation Amendment Bill, which is expected to pave the way for a new transmission company … [+1714 chars]</td></tr><tr><td>2023-10-02 12:03:00</td><td>Zimbabwe</td><td>The Times of India</td><td>Zimbabwe searches for mine survivors as relatives lose hope</td><td>Authorities in Zimbabwe are continuing their search for survivors after a disused gold mine collapsed, trapping miners underground. Accidents in abandoned mines are common in the country, as artisanal miners ignore safety regulations. The incident occurred in…</td><td>15 Indian states and their traditional weaves and fabrics</td></tr><tr><td>2023-10-02 23:15:00</td><td>Zimbabwe</td><td>The Times of India</td><td>Indian tycoon, son killed in a plane crash in Zimbabwe</td><td>Rest of World News: JOHANNESBURG: An Indian billionaire and his son were among six individuals killed when their private plane crashed near a diamond mine in Zimbabwe aft.</td><td>15 Indian states and their traditional weaves and fabrics</td></tr><tr><td>2023-10-21 19:00:00</td><td>South Africa</td><td>Digital Trends</td><td>5 movies like Killers of the Flower Moon you should watch</td><td>From a moody Brad Pitt Western to a shocking true crime story, these five movies should be watched if you liked Martin Scorsese&#39;s Killers of the Flower Moon.</td><td>The Assassination of Jesse James by the Coward Robert FordWarner Bros.\nAfter years of anticipation, Martin Scorsese’s latest movie, Killers of the Flower Moon, is finally here. The film, an adaptati… [+4393 chars]</td></tr></table>"
                    },
                    "metadata": {}
                }
            ],
            "execution_count": 1
        },
        {
            "cell_type": "markdown",
            "source": [
                "# **VECTOR\\_DISTANCE FEATURE**\n",
                "\n",
                "This function calculates the distance between two vectors using a specified distance metric.\n",
                "\n",
                "The following distance metrics are supported:\n",
                "\n",
                "- cosine – Cosine distance\n",
                "    \n",
                "- euclidean – Euclidean distance\n",
                "    \n",
                "- dot – (Negative) Dot product\n",
                "    \n",
                "\n",
                "Example Syntax: The following example creates a vector with three dimensions from a string with a JSON array"
            ],
            "metadata": {
                "azdata_cell_guid": "9a80ca9f-dd15-4f88-8be7-0fc2728c64b5"
            },
            "attachments": {}
        },
        {
            "cell_type": "code",
            "source": [
                "DECLARE @v1 VARBINARY(8000) = JSON_ARRAY_TO_VECTOR('[1,1]')\r\n",
                "DECLARE @v2 VARBINARY(8000) = JSON_ARRAY_TO_VECTOR('[-1,-1]')\r\n",
                "\r\n",
                "SELECT \r\n",
                "    VECTOR_DISTANCE('euclidean', @v1, @v2) AS euclidean,\r\n",
                "    VECTOR_DISTANCE('cosine', @v1, @v2) AS cosine,\r\n",
                "    VECTOR_DISTANCE('dot', @v1, @v2) AS negative_dot_product;"
            ],
            "metadata": {
                "azdata_cell_guid": "813392ec-a325-490a-86a9-9380e44f3452",
                "language": "sql"
            },
            "outputs": [
                {
                    "output_type": "display_data",
                    "data": {
                        "text/html": "(1 row affected)"
                    },
                    "metadata": {}
                },
                {
                    "output_type": "display_data",
                    "data": {
                        "text/html": "Total execution time: 00:00:00.036"
                    },
                    "metadata": {}
                },
                {
                    "output_type": "execute_result",
                    "execution_count": 2,
                    "data": {
                        "application/vnd.dataresource+json": {
                            "schema": {
                                "fields": [
                                    {
                                        "name": "euclidean"
                                    },
                                    {
                                        "name": "cosine"
                                    },
                                    {
                                        "name": "negative_dot_product"
                                    }
                                ]
                            },
                            "data": [
                                {
                                    "euclidean": "2.8284271247461903",
                                    "cosine": "2",
                                    "negative_dot_product": "2"
                                }
                            ]
                        },
                        "text/html": "<table><tr><th>euclidean</th><th>cosine</th><th>negative_dot_product</th></tr><tr><td>2.8284271247461903</td><td>2</td><td>2</td></tr></table>"
                    },
                    "metadata": {}
                }
            ],
            "execution_count": 2
        },
        {
            "cell_type": "markdown",
            "source": [
                "# **Procedure to generate embeddings directly in Azure SQL using REST API calls**"
            ],
            "metadata": {
                "language": "sql",
                "azdata_cell_guid": "58e9aaf3-e503-489d-b599-ae3d78a735f0"
            },
            "attachments": {}
        },
        {
            "cell_type": "markdown",
            "source": [
                "[How-to: Create and deploy an Azure OpenAI Service resource - Azure OpenAI | Microsoft Learn](https://learn.microsoft.com/en-us/azure/ai-services/openai/how-to/create-resource?pivots=web-portal)  \n",
                "  \n",
                "\n",
                "[How to set up Azure OpenAI Key (youtube.com)](https://www.youtube.com/watch?v=rjarZdNTPbI&t=215s)"
            ],
            "metadata": {
                "language": "sql",
                "azdata_cell_guid": "121a87d2-d20a-4f38-a758-b4d17d727566"
            },
            "attachments": {}
        },
        {
            "cell_type": "code",
            "source": [
                "/*\r\n",
                "    PROCEDURE: [dbo].[GET_EMBEDDINGS]\r\n",
                "    \r\n",
                "    DESCRIPTION: This stored procedure is used to retrieve embeddings for a given text using the specified model. It makes use of an external REST endpoint to generate the embeddings.\r\n",
                "    PARAMETERS:\r\n",
                "    - @model: VARCHAR(MAX) - The name of the model to use for generating embeddings.    - @text: NVARCHAR(MAX) - The input text for which embeddings need to be generated.\r\n",
                "    - @embedding: VARBINARY(8000) OUTPUT - The output parameter to store the generated embeddings.\r\n",
                "    */\r\n",
                "SET ANSI_NULLS ON\r\n",
                "GO\r\n",
                "SET QUOTED_IDENTIFIER ON\r\n",
                "GO\r\n",
                "--ALTER PROCEDURE [dbo].[GET_EMBEDDINGS]\r\n",
                "(\r\n",
                "    @model VARCHAR(MAX),\r\n",
                "    @text NVARCHAR(MAX),\r\n",
                "    @embedding VARBINARY(8000) OUTPUT\r\n",
                ")\r\n",
                "AS\r\n",
                "BEGIN\r\n",
                "    DECLARE @retval INT, @response NVARCHAR(MAX);\r\n",
                "    DECLARE @url VARCHAR(MAX);\r\n",
                "    DECLARE @payload NVARCHAR(MAX) = JSON_OBJECT('input': @text);\r\n",
                "\r\n",
                "    -- Set the @url variable with proper concatenation before the EXEC statement\r\n",
                "    SET @url = 'https://<Your App>.openai.azure.com/openai/deployments/' + @model + '/embeddings?api-version=2024-02-15-preview';\r\n",
                "\r\n",
                "    EXEC dbo.sp_invoke_external_rest_endpoint \r\n",
                "        @url = @url,\r\n",
                "        @method = 'POST',   \r\n",
                "        @payload = @payload,   \r\n",
                "        @headers = '{\"Content-Type\":\"application/json\", \"api-key\":\"<Your Azure Open AI API Key\"}', \r\n",
                "        @response = @response OUTPUT;\r\n",
                "\r\n",
                "    -- Use JSON_QUERY to extract the embedding array directly\r\n",
                "    DECLARE @jsonArray NVARCHAR(MAX) = JSON_QUERY(@response, '$.result.data[0].embedding');\r\n",
                "\r\n",
                "    \r\n",
                "    SET @embedding = JSON_ARRAY_TO_VECTOR(@jsonArray);\r\n",
                "END"
            ],
            "metadata": {
                "azdata_cell_guid": "cbed9afa-0a30-4f3c-adac-5170d96f644f",
                "language": "sql",
                "tags": []
            },
            "outputs": [],
            "execution_count": null
        },
        {
            "cell_type": "markdown",
            "source": [
                "# **How to embeddding a text to a vector?**"
            ],
            "metadata": {
                "azdata_cell_guid": "113ce0c4-fe9a-44ec-8e56-23eaafe05f45"
            },
            "attachments": {}
        },
        {
            "cell_type": "code",
            "source": [
                "DECLARE @value_embedding NVARCHAR(MAX);\r\n",
                "\r\n",
                "EXEC GET_VECTOR_EMBEDDINGS 'text-embedding-3-small', 'This text will be converted to a vector', @value_embedding OUTPUT;\r\n",
                "\r\n",
                "Select @value_embedding"
            ],
            "metadata": {
                "azdata_cell_guid": "d33b0eb9-179d-4fbd-8d08-e12872c52d03",
                "language": "sql",
                "tags": []
            },
            "outputs": [
                {
                    "output_type": "display_data",
                    "data": {
                        "text/html": "(1 row affected)"
                    },
                    "metadata": {}
                },
                {
                    "output_type": "display_data",
                    "data": {
                        "text/html": "Total execution time: 00:00:00.610"
                    },
                    "metadata": {}
                },
                {
                    "output_type": "execute_result",
                    "execution_count": 4,
                    "data": {
                        "application/vnd.dataresource+json": {
                            "schema": {
                                "fields": [
                                    {
                                        "name": "(No column name)"
                                    }
                                ]
                            },
                            "data": [
                                {
                                    "(No column name)": "[\n        -0.01684382,\n        0.07433774,\n        -0.028706796,\n        -0.033767976,\n        -0.052513085,\n        -0.048014257,\n        -0.012438719,\n        0.0050210115,\n        0.03403576,\n        -0.0043716272,\n        0.032964613,\n        0.033955425,\n        -0.010443703,\n        0.015304043,\n        0.0404091,\n        -0.0022828865,\n        0.014447124,\n        -0.02335105,\n        -0.010718185,\n        0.036927864,\n        -0.0185041,\n        0.0009046189,\n        0.05682446,\n        -0.032080915,\n        0.010329894,\n        -0.026992956,\n        -0.022212954,\n        0.009807709,\n        0.054575045,\n        -0.03716887,\n        -0.0382668,\n        -0.04271207,\n        -0.022146007,\n        -0.051656164,\n        0.037516996,\n        0.03408932,\n        0.031223996,\n        0.008113954,\n        -0.01788819,\n        0.029108476,\n        0.024569482,\n        0.038775597,\n        0.01514337,\n        -0.009841182,\n        0.047960702,\n        0.05800272,\n        -0.021329256,\n        -0.025225561,\n        -0.002493769,\n        0.046755657,\n        -0.023712562,\n        0.02714024,\n        -0.015625387,\n        0.043301202,\n        -0.009687205,\n        0.009908129,\n        -0.05195073,\n        0.023940181,\n        0.005657006,\n        0.014848804,\n        0.05382524,\n        -0.013322417,\n        0.010778437,\n        -0.019026285,\n        -0.008997653,\n        0.036901087,\n        -0.031839907,\n        0.040757224,\n        -0.005616838,\n        -0.010477177,\n        0.022761919,\n        0.013871381,\n        -0.0015155086,\n        -0.028385451,\n        -0.043006636,\n        -0.03679397,\n        -0.027689204,\n        0.007846167,\n        0.027033126,\n        -0.011869671,\n        0.03623162,\n        0.008167512,\n        0.010323199,\n        -0.047853585,\n        -0.025319288,\n        -0.036285177,\n        -0.053102218,\n        -0.010778437,\n        -0.0064436314,\n        -0.017058048,\n        -0.03028674,\n        0.037088536,\n        -0.04244428,\n        0.0001259437,\n        -0.0014694827,\n        0.028198,\n        -0.033339515,\n        -0.018477323,\n        -0.044479467,\n        -0.021556875,\n        0.057734936,\n        0.015611998,\n        0.03976641,\n        0.042524617,\n        0.026457382,\n        0.015330821,\n        0.00925205,\n        -0.026417214,\n        -0.022038892,\n        0.012244573,\n        -0.03194702,\n        0.00036967197,\n        0.04172126,\n        0.025734358,\n        0.021824664,\n        -0.020606231,\n        0.012559223,\n        -0.0062796115,\n        0.005988393,\n        -0.01262617,\n        -0.022253122,\n        -0.020940965,\n        0.04710378,\n        -0.03976641,\n        -0.025801303,\n        -0.050397564,\n        0.0021489928,\n        -0.06266222,\n        0.022132618,\n        0.00034979713,\n        0.0005284615,\n        -0.03301817,\n        -0.014915751,\n        -0.031866685,\n        -0.027742762,\n        -0.04335476,\n        -0.043917112,\n        0.065500766,\n        -0.018276481,\n        0.057467148,\n        -0.042363945,\n        -0.006199275,\n        -0.007196783,\n        -0.040944673,\n        -0.04209616,\n        -0.010798521,\n        -0.017834632,\n        0.01178264,\n        -0.007859556,\n        0.009011041,\n        -0.021931777,\n        0.043086972,\n        -0.029670829,\n        0.0045691202,\n        0.020351833,\n        -0.026484162,\n        0.026618054,\n        0.03384831,\n        0.008000145,\n        0.019883204,\n        -0.014902362,\n        -0.04897829,\n        0.014460512,\n        -0.016442139,\n        -0.0122579625,\n        -0.07567668,\n        0.043943893,\n        0.0025623895,\n        -0.042176496,\n        -0.028090885,\n        0.019441357,\n        -0.036017388,\n        -0.040676888,\n        -0.01999032,\n        -0.06260867,\n        0.008187596,\n        -0.018624606,\n        -0.042363945,\n        0.010182611,\n        0.021730937,\n        0.0050511374,\n        0.052138183,\n        0.029563716,\n        -0.016281467,\n        0.025707578,\n        -0.006922301,\n        0.02691262,\n        0.004763266,\n        0.0034343717,\n        -0.0032335313,\n        -0.012164237,\n        -0.0021874872,\n        0.01578606,\n        -0.0019213737,\n        -0.0041808286,\n        0.025988756,\n        0.060519923,\n        -0.017740907,\n        0.0064871465,\n        0.022119228,\n        0.038641702,\n        0.035026576,\n        -0.0027096726,\n        0.0025791263,\n        -0.06287645,\n        -0.012478887,\n        -0.057788495,\n        0.005861194,\n        0.0069490797,\n        -0.009144936,\n        0.058591854,\n        -0.028626459,\n        -0.046407536,\n        -0.02357867,\n        -0.016977713,\n        -0.03810613,\n        -0.024743544,\n        0.059180986,\n        0.021998724,\n        -0.021289088,\n        -0.003173279,\n        0.020566063,\n        0.0660899,\n        0.0022644761,\n        0.0009673815,\n        0.018463932,\n        0.026216375,\n        -0.044238456,\n        0.00410384,\n        -0.013938327,\n        0.042256832,\n        -0.029349485,\n        0.014621185,\n        -0.03832036,\n        -0.02462304,\n        -0.02312343,\n        -0.008816896,\n        0.03749022,\n        -0.019802868,\n        0.04381,\n        -0.08820913,\n        -0.0073976233,\n        0.09372555,\n        0.057199363,\n        0.011380959,\n        0.0038327053,\n        -0.00281344,\n        -0.020793682,\n        0.04501504,\n        0.035267584,\n        0.032348704,\n        0.026604665,\n        -0.012452108,\n        0.012552529,\n        -0.017660571,\n        0.028439008,\n        -0.050049443,\n        0.056931574,\n        0.058806084,\n        -0.002666157,\n        0.0060352557,\n        -0.024944384,\n        -0.06587567,\n        0.025828082,\n        0.03722243,\n        0.0005468718,\n        0.047666136,\n        0.010530734,\n        0.02881391,\n        -0.011628662,\n        -0.0074177072,\n        -0.018611215,\n        0.033285957,\n        0.027381249,\n        -0.069089115,\n        0.00011129909,\n        -0.034383886,\n        0.0009740762,\n        0.0027146935,\n        0.039230835,\n        -0.047237676,\n        -0.015451326,\n        0.025439791,\n        0.0016945914,\n        -0.049379975,\n        -0.06223376,\n        0.01579945,\n        0.015009477,\n        0.017004492,\n        -0.021744326,\n        0.017339226,\n        -0.023176989,\n        0.022052282,\n        -0.019481525,\n        0.010751659,\n        0.028787132,\n        -0.02148993,\n        0.02420797,\n        0.034651674,\n        0.004840255,\n        0.04838916,\n        -0.0028536082,\n        0.050156556,\n        0.019093232,\n        -0.059502333,\n        0.0095131425,\n        -0.009707289,\n        -0.017366005,\n        -0.01808903,\n        -0.009111462,\n        0.02629671,\n        0.032723606,\n        -0.016013678,\n        -0.036526185,\n        -0.07669427,\n        -0.0425514,\n        0.059502333,\n        -0.0043314593,\n        0.020673178,\n        -0.0059314882,\n        0.046193305,\n        -0.04271207,\n        0.05138838,\n        -0.030849094,\n        0.027715983,\n        -0.013195218,\n        0.0018979423,\n        0.008073786,\n        0.07305237,\n        -0.010042023,\n        -0.0037691058,\n        0.0038159685,\n        0.01745973,\n        -0.034624893,\n        -0.03299139,\n        -0.04820171,\n        -0.01851749,\n        0.017941747,\n        0.027287522,\n        -0.0041875234,\n        -0.013315722,\n        -0.036552962,\n        0.00061883964,\n        0.030367076,\n        -0.009720678,\n        -0.015933342,\n        -0.024730155,\n        0.042203274,\n        0.010403535,\n        -0.008830286,\n        -0.029510157,\n        0.0153977685,\n        0.024007129,\n        -0.021918388,\n        0.057199363,\n        -0.04980843,\n        0.018075641,\n        0.0044988263,\n        -0.0011665483,\n        -0.023444775,\n        -0.008883843,\n        0.015678944,\n        0.018169366,\n        0.029403042,\n        -0.020686567,\n        0.0144203445,\n        -0.008441994,\n        0.04991555,\n        0.022186175,\n        -0.042176496,\n        -0.005108042,\n        -0.018584436,\n        -0.015545052,\n        0.01997693,\n        -0.011454601,\n        -0.024448978,\n        -0.017245501,\n        0.007056195,\n        0.023444775,\n        0.026136037,\n        -0.008555803,\n        0.015183538,\n        -0.08269271,\n        -0.052914765,\n        -0.030768758,\n        0.0017506593,\n        -0.0066344296,\n        0.0087030865,\n        -0.010196,\n        0.05095992,\n        0.028064106,\n        0.0038460947,\n        -0.011869671,\n        0.07053517,\n        -0.0031515216,\n        0.038507808,\n        -0.0035749602,\n        0.04943353,\n        0.03639229,\n        -0.017848022,\n        0.055271294,\n        -0.01452746,\n        0.03435711,\n        -0.0009146609,\n        -0.018879002,\n        -0.0041540503,\n        0.012177627,\n        -0.0045423415,\n        0.002970765,\n        0.022574468,\n        0.038668483,\n        -0.0052251993,\n        0.033982206,\n        -0.012438719,\n        0.028439008,\n        0.031357888,\n        0.019950151,\n        0.0075181276,\n        -0.008843674,\n        0.0159869,\n        -0.052057847,\n        -0.013503173,\n        -0.053102218,\n        -0.03200058,\n        -0.026604665,\n        0.017620403,\n        0.022212954,\n        0.0064168526,\n        -0.03280394,\n        -0.027528532,\n        -0.018838834,\n        -0.010537429,\n        0.00842191,\n        0.002915534,\n        0.022895811,\n        -0.013550036,\n        0.032482598,\n        0.03216125,\n        0.02315021,\n        -0.007899725,\n        0.0110730035,\n        0.011059614,\n        -0.017553456,\n        0.008080481,\n        0.02148993,\n        0.018758498,\n        -0.000070921786,\n        0.04172126,\n        -0.037516996,\n        -0.040275205,\n        -0.0053925663,\n        0.002753188,\n        -0.028680017,\n        -0.008147428,\n        0.002950681,\n        -0.06566144,\n        -0.009272134,\n        -0.0010962541,\n        -0.00043055174,\n        0.029938618,\n        -0.0008221906,\n        -0.017205331,\n        -0.011588494,\n        -0.020097435,\n        -0.02083385,\n        -0.037597332,\n        0.031170439,\n        -0.0006862049,\n        0.036552962,\n        -0.01052404,\n        -0.019749312,\n        0.043622546,\n        -0.015384379,\n        0.0027130197,\n        0.032027356,\n        -0.011856281,\n        0.02459626,\n        -0.03561571,\n        -0.022935979,\n        -0.0006460368,\n        0.038588148,\n        -0.051308043,\n        -0.02059284,\n        0.0013523258,\n        0.007056195,\n        0.1307873,\n        -0.036285177,\n        -0.025533516,\n        0.039016604,\n        -0.010765049,\n        0.014862194,\n        0.012351688,\n        0.009191798,\n        -0.015411157,\n        0.010999362,\n        -0.0072101722,\n        -0.062126648,\n        0.0050812634,\n        0.026055701,\n        -0.05655667,\n        0.029777944,\n        0.0042076074,\n        -0.021704158,\n        0.0030745326,\n        0.07530178,\n        0.03724921,\n        0.0067013763,\n        -0.024475757,\n        -0.014326619,\n        0.035722822,\n        0.0416677,\n        -0.019695753,\n        -0.025921809,\n        0.00044059375,\n        0.0016828757,\n        0.015451326,\n        -0.031893466,\n        0.026792116,\n        -0.019588638,\n        -0.017848022,\n        0.0141927255,\n        0.009452891,\n        0.0132353855,\n        -0.05612821,\n        -0.023645617,\n        -0.025600463,\n        -0.032348704,\n        -0.010015244,\n        0.0017657223,\n        0.021315867,\n        0.033955425,\n        -0.023190377,\n        0.028760353,\n        0.008200985,\n        -0.019106623,\n        -0.02672517,\n        -0.020084046,\n        0.050156556,\n        0.02776954,\n        0.010919026,\n        -0.011421127,\n        -0.0044753947,\n        0.018731719,\n        0.010162527,\n        -0.024890827,\n        -0.002132256,\n        -0.002311339,\n        0.0018410375,\n        -0.027448196,\n        0.030634863,\n        -0.0034778873,\n        -0.0026477466,\n        0.017218722,\n        -0.02649755,\n        0.0018912476,\n        -0.031063324,\n        0.013021156,\n        0.007819388,\n        -0.018986117,\n        -0.009975076,\n        -0.023685785,\n        0.037570555,\n        0.020097435,\n        0.0046628457,\n        -0.026591277,\n        0.036579743,\n        0.003255289,\n        0.0048168236,\n        0.010704796,\n        -0.0074177072,\n        0.0024870744,\n        0.00035042476,\n        -0.014741689,\n        0.02438203,\n        -0.008127344,\n        -0.02292259,\n        0.010892248,\n        -0.027100071,\n        -0.047210895,\n        0.015853006,\n        0.00946628,\n        0.03031352,\n        0.031170439,\n        0.0046092886,\n        -0.01767396,\n        0.03890949,\n        0.020110825,\n        -0.013248775,\n        -0.020673178,\n        -0.017901579,\n        0.04731801,\n        -0.018584436,\n        -0.015129981,\n        0.030367076,\n        -0.012927431,\n        -0.00726373,\n        -0.0035615708,\n        -0.030741978,\n        -0.027408028,\n        -0.014487292,\n        0.00294566,\n        -0.018249702,\n        -0.00027845692,\n        0.006028561,\n        0.0019866468,\n        -0.01451407,\n        -0.0020301624,\n        0.009298913,\n        0.041078568,\n        -0.016294856,\n        -0.03240226,\n        -0.015076423,\n        0.004435227,\n        0.0050243586,\n        0.031652454,\n        -0.012599391,\n        -0.033152066,\n        0.004458658,\n        0.015317432,\n        -0.025774525,\n        -0.017620403,\n        -0.0006694682,\n        -0.0002111963,\n        -0.004565773,\n        -0.0024854005,\n        0.04737157,\n        0.028251557,\n        0.008254543,\n        -0.016870597,\n        0.005057832,\n        -0.022909202,\n        -0.027408028,\n        0.024315085,\n        0.0003872455,\n        -0.019843036,\n        0.0010301442,\n        0.041480247,\n        0.009499754,\n        0.019508302,\n        -0.03157212,\n        0.012586002,\n        0.009827793,\n        0.037302766,\n        -0.008990957,\n        0.02356528,\n        0.0029523547,\n        0.006875438,\n        0.01641536,\n        0.00968051,\n        -0.0076988842,\n        0.0023079915,\n        0.011695609,\n        -0.0034159613,\n        0.005901362,\n        0.014915751,\n        -0.014634575,\n        -0.037624113,\n        -0.018852225,\n        0.008334879,\n        -0.043301202,\n        -0.007009332,\n        -0.0068319226,\n        0.0067716707,\n        -0.035669263,\n        -0.02020455,\n        0.04453302,\n        -0.02080707,\n        -0.00039477702,\n        -0.006021866,\n        0.009928213,\n        0.007056195,\n        0.03301817,\n        0.014755079,\n        0.006915606,\n        0.006845312,\n        0.020017099,\n        -0.03031352,\n        0.0017422909,\n        0.025975365,\n        0.008877148,\n        -0.0003780403,\n        0.024716765,\n        -0.008067092,\n        -0.0023397913,\n        -0.0014150884,\n        0.015611998,\n        0.029081699,\n        -0.0032485945,\n        0.0007238625,\n        -0.010236168,\n        -0.0378919,\n        -0.04525605,\n        0.017432952,\n        -0.007886335,\n        0.045764845,\n        -0.0225343,\n        0.017526677,\n        0.004803434,\n        -0.000050994648,\n        -0.01641536,\n        -0.0091382405,\n        -0.0007878804,\n        0.02020455,\n        0.006587567,\n        -0.007718968,\n        -0.036579743,\n        0.0064268946,\n        0.0015983552,\n        0.059073873,\n        0.024368642,\n        -0.0103031155,\n        -0.00799345,\n        0.011601884,\n        -0.014647963,\n        -0.0014033726,\n        0.0073105926,\n        0.016803652,\n        -0.0006284633,\n        -0.020043878,\n        -0.026336879,\n        0.029403042,\n        0.0044921315,\n        -0.024489146,\n        -0.016669758,\n        0.0026527676,\n        -0.014487292,\n        -0.010731575,\n        0.022882422,\n        0.0015414505,\n        0.016723314,\n        0.022935979,\n        0.013282249,\n        0.0069289957,\n        0.0053825243,\n        0.045336384,\n        0.002351507,\n        -0.038641702,\n        -0.028921025,\n        -0.0075047384,\n        -0.010959194,\n        -0.057681378,\n        -0.028064106,\n        0.013362585,\n        0.03933795,\n        -0.057520706,\n        0.017620403,\n        -0.006179191,\n        -0.013262165,\n        -0.017499898,\n        -0.012090595,\n        -0.030902652,\n        0.011401043,\n        0.0057808575,\n        -0.036097724,\n        -0.019776091,\n        0.011314012,\n        -0.015946733,\n        -0.0056134905,\n        0.013228691,\n        0.030179625,\n        -0.033071727,\n        0.01514337,\n        0.015129981,\n        0.035053354,\n        -0.008020229,\n        -0.00081842486,\n        0.046621766,\n        0.034116097,\n        0.023243936,\n        0.023176989,\n        -0.020124214,\n        -0.014393566,\n        0.019120011,\n        0.0067716707,\n        0.0425514,\n        -0.040596552,\n        -0.04672888,\n        0.006202623,\n        -0.007953282,\n        0.015370989,\n        -0.0063566,\n        0.000101361664,\n        -0.011488074,\n        -0.04860339,\n        0.017325837,\n        0.011106477,\n        0.0056804377,\n        0.019012896,\n        0.008843674,\n        -0.017111607,\n        -0.014259673,\n        -0.00031004744,\n        0.03138467,\n        0.0089307055,\n        0.003377467,\n        0.007725663,\n        0.011240371,\n        -0.05832407,\n        0.013724098,\n        0.023110041,\n        -0.004910549,\n        0.019883204,\n        0.0075850743,\n        -0.00047532242,\n        0.055164177,\n        0.018812057,\n        -0.020847239,\n        0.04903185,\n        -0.0065440517,\n        -0.03258971,\n        0.011702304,\n        0.014353398,\n        -0.027930213,\n        0.049058627,\n        0.0010945805,\n        -0.06378693,\n        -0.035240807,\n        -0.030982988,\n        0.045577392,\n        0.03995386,\n        0.0135902045,\n        -0.0005246957,\n        0.011514853,\n        0.008221069,\n        0.033580523,\n        0.018477323,\n        0.012338298,\n        0.033580523,\n        0.007826083,\n        0.014072221,\n        0.034116097,\n        -0.018048862,\n        -0.045148935,\n        0.0012786842,\n        0.011903144,\n        0.05623533,\n        -0.024301695,\n        0.019294074,\n        -0.008770033,\n        -0.02841223,\n        0.0053892187,\n        -0.011642052,\n        -0.0031515216,\n        0.019026285,\n        -0.03352697,\n        0.026952788,\n        0.0032670046,\n        -0.00054519816,\n        0.014701521,\n        -0.01051065,\n        -0.032134473,\n        -0.00020115427,\n        0.007257035,\n        -0.026671613,\n        -0.0067951023,\n        0.0031983843,\n        0.0071365307,\n        -0.008127344,\n        -0.01621452,\n        -0.0059247934,\n        -0.02734108,\n        0.0034912766,\n        -0.021195363,\n        -0.05200429,\n        0.039230835,\n        -0.0017640487,\n        -0.027635647,\n        -0.00017385252,\n        0.064536735,\n        -0.005459513,\n        -0.0035649182,\n        0.024288306,\n        -0.043622546,\n        0.0044887844,\n        0.033098508,\n        0.0033121938,\n        0.0012067164,\n        0.03366086,\n        0.021824664,\n        0.005606796,\n        0.011099783,\n        0.0045055207,\n        0.012016954,\n        -0.013536647,\n        -0.03582994,\n        -0.026122648,\n        -0.011247066,\n        0.05955589,\n        0.007658716,\n        0.007872946,\n        -0.0020100782,\n        0.006293001,\n        -0.03727599,\n        0.0062829587,\n        -0.0053356616,\n        -0.014460512,\n        -0.052057847,\n        0.028680017,\n        0.026095869,\n        0.014406955,\n        -0.013978495,\n        -0.05302188,\n        0.007390929,\n        0.030233184,\n        -0.00037887716,\n        0.0032067527,\n        -0.020043878,\n        0.028037328,\n        -0.019401187,\n        0.017754296,\n        0.009298913,\n        0.004769961,\n        0.023083262,\n        0.012606086,\n        0.008368352,\n        -0.023873236,\n        -0.026604665,\n        -0.017419562,\n        0.010416925,\n        0.034410663,\n        -0.03599061,\n        -0.006728155,\n        0.017124996,\n        -0.0263101,\n        0.009546616,\n        0.007886335,\n        0.010162527,\n        -0.029081699,\n        0.021597043,\n        -0.008294711,\n        0.018048862,\n        -0.0076654106,\n        0.007257035,\n        -0.026149428,\n        0.015384379,\n        -0.02336444,\n        0.011260455,\n        0.015009477,\n        0.009231966,\n        0.019294074,\n        -0.026069092,\n        -0.019856427,\n        -0.0055699754,\n        -0.0031481741,\n        0.03893627,\n        -0.030875873,\n        0.028385451,\n        0.024167802,\n        0.022788696,\n        -0.013871381,\n        0.02795699,\n        -0.024315085,\n        0.02673856,\n        -0.016964324,\n        0.010945804,\n        0.0022259818,\n        0.027930213,\n        -0.01600029,\n        0.013965107,\n        -0.04528283,\n        -0.016361803,\n        0.018986117,\n        -0.016642978,\n        -0.017526677,\n        0.0225343,\n        -0.018263092,\n        0.023243936,\n        0.006165802,\n        -0.015866395,\n        -0.009426112,\n        0.00657083,\n        0.006038603,\n        0.010082191,\n        0.06287645,\n        -0.0112805385,\n        0.0294566,\n        0.0225343,\n        -0.02209245,\n        -0.015665555,\n        -0.034624893,\n        0.03277716,\n        0.013576815,\n        0.022279901,\n        -0.007886335,\n        0.014045442,\n        0.009747457,\n        0.036633298,\n        0.008354963,\n        0.007618548,\n        0.016964324,\n        0.012211099,\n        0.022748528,\n        -0.013857991,\n        0.016094016,\n        0.036740415,\n        -0.022654803,\n        -0.019079844,\n        0.04123924,\n        0.0019849732,\n        0.034812346,\n        -0.023792898,\n        0.0009472975,\n        0.014862194,\n        -0.035910275,\n        -0.013750876,\n        0.009720678,\n        0.0057875523,\n        0.0395254,\n        0.010631154,\n        -0.039927084,\n        -0.016254688,\n        -0.017084828,\n        -0.026859064,\n        -0.018637994,\n        0.03173279,\n        0.013288943,\n        -0.00511139,\n        -0.023618838,\n        0.020766903,\n        0.002661136,\n        -0.017526677,\n        -0.031518564,\n        0.025024721,\n        0.00594153,\n        0.02124892,\n        -0.011555021,\n        -0.010744965,\n        -0.041507028,\n        -0.03301817,\n        0.046220083,\n        0.0022628026,\n        0.039445065,\n        0.012023648,\n        -0.014915751,\n        -0.027046515,\n        0.062555104,\n        -0.0062427907,\n        -0.01450068,\n        0.0054327343,\n        -0.015277264,\n        -0.011621968,\n        0.028680017,\n        0.037999015,\n        -0.00205192,\n        0.0066344296,\n        -0.018637994,\n        0.02988506,\n        -0.020499116,\n        0.015745891,\n        0.008629445,\n        0.036070947,\n        0.0041507026,\n        -0.018477323,\n        0.024154412,\n        0.0027397985,\n        -0.012291436,\n        0.0023699175,\n        0.01083869,\n        0.018276481,\n        0.03518725,\n        -0.012606086,\n        0.007009332,\n        -0.0019079843,\n        -0.0041205767,\n        -0.013275554,\n        0.032321922,\n        0.026792116,\n        -0.016656369,\n        0.041105345,\n        0.009057905,\n        -0.0052218516,\n        0.005272062,\n        0.011474685,\n        -0.019909984,\n        -0.018343428,\n        0.0084955515,\n        -0.0016217866,\n        -0.0023330967,\n        0.0022644761,\n        0.014099,\n        -0.0069825533,\n        0.007946587,\n        -0.015063034,\n        -0.024368642,\n        -0.0048168236,\n        0.016147573,\n        -0.013596899,\n        -0.036713634,\n        -0.010544124,\n        -0.0059549194,\n        0.005764121,\n        -0.027260745,\n        -0.022587856,\n        -0.0416677,\n        -0.016509086,\n        0.0037389798,\n        0.043836776,\n        0.022159398,\n        0.016361803,\n        0.014152558,\n        -0.032107692,\n        0.002533937,\n        0.013088103,\n        -0.008100565,\n        -0.02063301,\n        0.011521547,\n        -0.023618838,\n        0.033366293,\n        0.015946733,\n        0.0053590927,\n        0.030340297,\n        0.02841223,\n        -0.0069289957,\n        -0.020552672,\n        0.0070963628,\n        0.005616838,\n        -0.012612781,\n        -0.023725953,\n        0.0041640922,\n        0.008047008,\n        0.0030594696,\n        0.03352697,\n        0.0036619909,\n        0.024047296,\n        0.014032053,\n        0.0047164033,\n        0.0108654685,\n        0.013643761,\n        -0.0012586002,\n        0.0060519925,\n        -0.0030410592,\n        -0.025506739,\n        -0.040462658,\n        0.0052586724,\n        -0.025198782,\n        -0.013556731,\n        -0.020017099,\n        0.004957412,\n        0.005098,\n        -0.0034644979,\n        0.016616201,\n        -0.0069490797,\n        0.022869034,\n        0.010028633,\n        0.011950007,\n        0.0052251993,\n        0.0053825243,\n        0.060734153,\n        -0.006236096,\n        -0.021891609,\n        0.030715201,\n        0.015625387,\n        0.0023130125,\n        -0.027501753,\n        0.027823098,\n        -0.026377046,\n        -0.005446124,\n        0.004271207,\n        -0.011206897,\n        0.025734358,\n        -0.007243646,\n        0.017580235,\n        0.0058779307,\n        0.00061214494,\n        -0.03320562,\n        0.011561715,\n        -0.008830286,\n        0.0016485654,\n        -0.00926544,\n        0.010644544,\n        -0.016495695,\n        -0.016870597,\n        -0.010537429,\n        -0.03853459,\n        0.0029071656,\n        0.060037907,\n        0.03200058,\n        0.020887407,\n        -0.004723098,\n        0.0002066983,\n        -0.017379394,\n        -0.023980351,\n        0.004036893,\n        -0.030554527,\n        -0.023310883,\n        -0.0051984205,\n        -0.04035554,\n        -0.03660652,\n        0.01620113,\n        -0.01891917,\n        -0.010825301,\n        0.0010326547,\n        0.016348412,\n        -0.007344066,\n        0.009238661,\n        0.020887407,\n        -0.04118568,\n        0.018490711,\n        0.0147952465,\n        -0.01874511,\n        -0.01936102,\n        -0.001752333,\n        -0.034758788,\n        -0.007243646,\n        -0.031438224,\n        0.040462658,\n        -0.015625387,\n        0.025801303,\n        -0.0021004565,\n        -0.00013033708,\n        -0.015826227,\n        -0.00047155665,\n        0.012037038,\n        -0.0033406462,\n        0.00441849,\n        -0.01408561,\n        0.02315021,\n        0.0018544268,\n        0.0083081005,\n        -0.026952788,\n        -0.007511433,\n        -0.011976786,\n        0.009439501,\n        0.0008012697,\n        -0.03264327,\n        0.0013121576,\n        0.07219545,\n        -0.016723314,\n        -0.0064201998,\n        0.001645218,\n        0.027742762,\n        0.02926915,\n        -0.012391856,\n        -0.032509375,\n        -0.0053758295,\n        0.030367076,\n        0.030661643,\n        0.022855643,\n        -0.023953572,\n        0.01745973,\n        -0.0060888133,\n        -0.0059214463,\n        0.00066151825,\n        -0.020217938,\n        0.0012636211,\n        0.030661643,\n        -0.0073239817,\n        -0.0055365018,\n        0.03893627,\n        0.017004492,\n        0.033553746,\n        0.028519345,\n        0.0028318504,\n        -0.045871958,\n        0.0032787204,\n        0.033098508,\n        -0.0041573974,\n        0.032562934,\n        -0.011836197,\n        -0.00080503547,\n        -0.016669758,\n        -0.003554876,\n        0.01642875,\n        -0.01725889,\n        0.022400405,\n        -0.0029557021,\n        0.0069557745,\n        -0.009077989,\n        -0.025814693,\n        0.013329111,\n        -0.000015180714,\n        0.012211099,\n        -0.022882422,\n        -0.0026845674,\n        0.035588928,\n        0.055592638,\n        -0.01514337,\n        0.017968526,\n        0.009452891,\n        0.008381742,\n        -0.006363295,\n        0.013208607,\n        0.0034711924,\n        -0.02629671,\n        -0.021128416,\n        -0.029751167,\n        0.028760353,\n        0.002808419,\n        0.014554238,\n        0.01725889,\n        0.004073714,\n        0.021570265,\n        0.0069356905,\n        0.004234386,\n        -0.010008549,\n        -0.018892393,\n        -0.019722532,\n        -0.0034644979,\n        -0.003457803,\n        -0.015237096,\n        -0.019026285,\n        0.046032634,\n        0.02252091,\n        -0.03028674,\n        -0.033071727,\n        0.016522475,\n        -0.003829358,\n        0.03791868,\n        0.01083869,\n        -0.0058678887,\n        -0.025761135,\n        0.00683527,\n        -0.042631734,\n        0.014380177,\n        -0.0030594696,\n        0.0047164033,\n        0.026872452,\n        -0.012278046,\n        0.022413794,\n        0.013429532,\n        -0.0055800173,\n        0.015652167,\n        -0.01997693,\n        0.010149138,\n        0.039632518,\n        -0.007056195,\n        0.01788819,\n        0.00926544,\n        -0.014219504,\n        -0.016254688,\n        -0.003245247,\n        -0.021342646,\n        0.022668192,\n        -0.047612578,\n        -0.012954209,\n        -0.034624893,\n        -0.025319288,\n        0.0059649614,\n        -0.019012896,\n        -0.008087176,\n        0.028706796,\n        0.0037456744,\n        0.046139747,\n        -0.008314795,\n        -0.029804723,\n        -0.006577525,\n        -0.00025021372,\n        0.007069584,\n        -0.019053064,\n        0.036258396,\n        -0.03430355,\n        -0.008482162,\n        -0.003641907,\n        -0.014888972,\n        -0.011307318,\n        -0.002386654,\n        -0.0017155122,\n        0.03473201,\n        -0.016442139,\n        0.031411447,\n        0.016227908,\n        0.016160961,\n        0.0051917257,\n        0.014969309,\n        0.025172004,\n        0.011508158,\n        -0.03890949,\n        -0.011414433,\n        0.051254485,\n        -0.004927286,\n        -0.05216496,\n        -0.009934908,\n        0.03853459,\n        0.0052051153,\n        -0.034839123,\n        0.039927084,\n        0.021784496,\n        0.007986755,\n        0.03534792,\n        -0.03009929,\n        0.011836197,\n        0.014955919,\n        -0.00021349758,\n        -0.050183333,\n        -0.024743544,\n        0.025935197,\n        -0.01126715,\n        -0.012137458,\n        0.019829648,\n        0.005098,\n        0.030902652,\n        0.0087030865,\n        0.04287274,\n        0.012920736,\n        0.01745973,\n        0.0038628315,\n        0.016027069,\n        0.0062662223,\n        0.030581307,\n        -0.022440573,\n        -0.004555731,\n        -0.06962469,\n        0.046755657,\n        -0.010530734,\n        0.00064812886,\n        -0.007819388,\n        -0.013208607,\n        0.010142443,\n        -0.014969309,\n        0.0035314446,\n        -0.024957774,\n        -0.008274627,\n        -0.024141023,\n        0.031170439,\n        -0.009867961,\n        -0.044666916,\n        0.025386233,\n        -0.0033657514,\n        -0.016080625,\n        0.0064503257,\n        -0.009954992,\n        -0.02292259,\n        0.03470523,\n        0.005134821,\n        -0.008334879,\n        0.013844602,\n        0.0055498914,\n        -0.035267584,\n        0.0029941965,\n        -0.014353398,\n        0.005616838,\n        0.040944673,\n        -0.0031431532,\n        -0.035214026,\n        -0.0048168236,\n        -0.001284542,\n        0.0023330967,\n        -0.0051783365,\n        -0.024890827,\n        0.0076988842,\n        -0.020874018,\n        -0.004622678,\n        0.017754296,\n        -0.025292508,\n        0.033500187,\n        -0.020914186,\n        0.0120303435,\n        0.008134038,\n        0.0005397587,\n        -0.01764718,\n        -0.028064106,\n        -0.023525111,\n        0.027555311,\n        -0.0059281406,\n        -0.0144203445,\n        0.010691407,\n        0.05869897,\n        0.006915606,\n        -0.01936102,\n        -0.010430315,\n        0.024274915,\n        -0.032134473,\n        0.014567628,\n        0.004184176,\n        -0.042631734,\n        0.008214375,\n        0.015009477,\n        0.002788335,\n        0.038507808,\n        0.005854499,\n        0.0120303435,\n        0.03724921,\n        -0.048255265,\n        -0.002666157,\n        -0.03344663,\n        0.04887118,\n        0.050210115,\n        -0.015879786,\n        0.028867468,\n        0.015545052,\n        -0.014165946,\n        0.020981133,\n        -0.038882714,\n        -0.0050444426,\n        0.022427185,\n        -0.010390147,\n        -0.020351833,\n        -0.001772417,\n        0.033232402,\n        -0.0040804087,\n        -0.025627242,\n        0.032536153,\n        0.025935197,\n        -0.014259673,\n        -0.0038728735,\n        0.009292218,\n        -0.059234545,\n        -0.017312447,\n        -0.0022393712,\n        0.038373917,\n        0.011119867,\n        0.022788696,\n        -0.0076721055,\n        0.018249702,\n        -0.030849094,\n        -0.0015104876,\n        -0.0025958628,\n        0.016669758,\n        0.0075449063,\n        -0.006390074,\n        -0.037516996,\n        -0.011226981,\n        -0.012813621,\n        0.004200913,\n        -0.0023197073,\n        0.02270836,\n        -0.0093256915,\n        0.008950789,\n        0.037409883,\n        0.023739342,\n        0.027394637,\n        0.012806926,\n        -0.031438224,\n        -0.0454435,\n        -0.01660281,\n        -0.031250775,\n        -0.036981422,\n        0.007852862,\n        0.030956209,\n        -0.0049038543,\n        -0.0014803616,\n        0.011146645,\n        0.016147573,\n        0.025105057,\n        0.018651383,\n        0.015277264\n      ]"
                                }
                            ]
                        },
                        "text/html": "<table><tr><th>(No column name)</th></tr><tr><td>[\n        -0.01684382,\n        0.07433774,\n        -0.028706796,\n        -0.033767976,\n        -0.052513085,\n        -0.048014257,\n        -0.012438719,\n        0.0050210115,\n        0.03403576,\n        -0.0043716272,\n        0.032964613,\n        0.033955425,\n        -0.010443703,\n        0.015304043,\n        0.0404091,\n        -0.0022828865,\n        0.014447124,\n        -0.02335105,\n        -0.010718185,\n        0.036927864,\n        -0.0185041,\n        0.0009046189,\n        0.05682446,\n        -0.032080915,\n        0.010329894,\n        -0.026992956,\n        -0.022212954,\n        0.009807709,\n        0.054575045,\n        -0.03716887,\n        -0.0382668,\n        -0.04271207,\n        -0.022146007,\n        -0.051656164,\n        0.037516996,\n        0.03408932,\n        0.031223996,\n        0.008113954,\n        -0.01788819,\n        0.029108476,\n        0.024569482,\n        0.038775597,\n        0.01514337,\n        -0.009841182,\n        0.047960702,\n        0.05800272,\n        -0.021329256,\n        -0.025225561,\n        -0.002493769,\n        0.046755657,\n        -0.023712562,\n        0.02714024,\n        -0.015625387,\n        0.043301202,\n        -0.009687205,\n        0.009908129,\n        -0.05195073,\n        0.023940181,\n        0.005657006,\n        0.014848804,\n        0.05382524,\n        -0.013322417,\n        0.010778437,\n        -0.019026285,\n        -0.008997653,\n        0.036901087,\n        -0.031839907,\n        0.040757224,\n        -0.005616838,\n        -0.010477177,\n        0.022761919,\n        0.013871381,\n        -0.0015155086,\n        -0.028385451,\n        -0.043006636,\n        -0.03679397,\n        -0.027689204,\n        0.007846167,\n        0.027033126,\n        -0.011869671,\n        0.03623162,\n        0.008167512,\n        0.010323199,\n        -0.047853585,\n        -0.025319288,\n        -0.036285177,\n        -0.053102218,\n        -0.010778437,\n        -0.0064436314,\n        -0.017058048,\n        -0.03028674,\n        0.037088536,\n        -0.04244428,\n        0.0001259437,\n        -0.0014694827,\n        0.028198,\n        -0.033339515,\n        -0.018477323,\n        -0.044479467,\n        -0.021556875,\n        0.057734936,\n        0.015611998,\n        0.03976641,\n        0.042524617,\n        0.026457382,\n        0.015330821,\n        0.00925205,\n        -0.026417214,\n        -0.022038892,\n        0.012244573,\n        -0.03194702,\n        0.00036967197,\n        0.04172126,\n        0.025734358,\n        0.021824664,\n        -0.020606231,\n        0.012559223,\n        -0.0062796115,\n        0.005988393,\n        -0.01262617,\n        -0.022253122,\n        -0.020940965,\n        0.04710378,\n        -0.03976641,\n        -0.025801303,\n        -0.050397564,\n        0.0021489928,\n        -0.06266222,\n        0.022132618,\n        0.00034979713,\n        0.0005284615,\n        -0.03301817,\n        -0.014915751,\n        -0.031866685,\n        -0.027742762,\n        -0.04335476,\n        -0.043917112,\n        0.065500766,\n        -0.018276481,\n        0.057467148,\n        -0.042363945,\n        -0.006199275,\n        -0.007196783,\n        -0.040944673,\n        -0.04209616,\n        -0.010798521,\n        -0.017834632,\n        0.01178264,\n        -0.007859556,\n        0.009011041,\n        -0.021931777,\n        0.043086972,\n        -0.029670829,\n        0.0045691202,\n        0.020351833,\n        -0.026484162,\n        0.026618054,\n        0.03384831,\n        0.008000145,\n        0.019883204,\n        -0.014902362,\n        -0.04897829,\n        0.014460512,\n        -0.016442139,\n        -0.0122579625,\n        -0.07567668,\n        0.043943893,\n        0.0025623895,\n        -0.042176496,\n        -0.028090885,\n        0.019441357,\n        -0.036017388,\n        -0.040676888,\n        -0.01999032,\n        -0.06260867,\n        0.008187596,\n        -0.018624606,\n        -0.042363945,\n        0.010182611,\n        0.021730937,\n        0.0050511374,\n        0.052138183,\n        0.029563716,\n        -0.016281467,\n        0.025707578,\n        -0.006922301,\n        0.02691262,\n        0.004763266,\n        0.0034343717,\n        -0.0032335313,\n        -0.012164237,\n        -0.0021874872,\n        0.01578606,\n        -0.0019213737,\n        -0.0041808286,\n        0.025988756,\n        0.060519923,\n        -0.017740907,\n        0.0064871465,\n        0.022119228,\n        0.038641702,\n        0.035026576,\n        -0.0027096726,\n        0.0025791263,\n        -0.06287645,\n        -0.012478887,\n        -0.057788495,\n        0.005861194,\n        0.0069490797,\n        -0.009144936,\n        0.058591854,\n        -0.028626459,\n        -0.046407536,\n        -0.02357867,\n        -0.016977713,\n        -0.03810613,\n        -0.024743544,\n        0.059180986,\n        0.021998724,\n        -0.021289088,\n        -0.003173279,\n        0.020566063,\n        0.0660899,\n        0.0022644761,\n        0.0009673815,\n        0.018463932,\n        0.026216375,\n        -0.044238456,\n        0.00410384,\n        -0.013938327,\n        0.042256832,\n        -0.029349485,\n        0.014621185,\n        -0.03832036,\n        -0.02462304,\n        -0.02312343,\n        -0.008816896,\n        0.03749022,\n        -0.019802868,\n        0.04381,\n        -0.08820913,\n        -0.0073976233,\n        0.09372555,\n        0.057199363,\n        0.011380959,\n        0.0038327053,\n        -0.00281344,\n        -0.020793682,\n        0.04501504,\n        0.035267584,\n        0.032348704,\n        0.026604665,\n        -0.012452108,\n        0.012552529,\n        -0.017660571,\n        0.028439008,\n        -0.050049443,\n        0.056931574,\n        0.058806084,\n        -0.002666157,\n        0.0060352557,\n        -0.024944384,\n        -0.06587567,\n        0.025828082,\n        0.03722243,\n        0.0005468718,\n        0.047666136,\n        0.010530734,\n        0.02881391,\n        -0.011628662,\n        -0.0074177072,\n        -0.018611215,\n        0.033285957,\n        0.027381249,\n        -0.069089115,\n        0.00011129909,\n        -0.034383886,\n        0.0009740762,\n        0.0027146935,\n        0.039230835,\n        -0.047237676,\n        -0.015451326,\n        0.025439791,\n        0.0016945914,\n        -0.049379975,\n        -0.06223376,\n        0.01579945,\n        0.015009477,\n        0.017004492,\n        -0.021744326,\n        0.017339226,\n        -0.023176989,\n        0.022052282,\n        -0.019481525,\n        0.010751659,\n        0.028787132,\n        -0.02148993,\n        0.02420797,\n        0.034651674,\n        0.004840255,\n        0.04838916,\n        -0.0028536082,\n        0.050156556,\n        0.019093232,\n        -0.059502333,\n        0.0095131425,\n        -0.009707289,\n        -0.017366005,\n        -0.01808903,\n        -0.009111462,\n        0.02629671,\n        0.032723606,\n        -0.016013678,\n        -0.036526185,\n        -0.07669427,\n        -0.0425514,\n        0.059502333,\n        -0.0043314593,\n        0.020673178,\n        -0.0059314882,\n        0.046193305,\n        -0.04271207,\n        0.05138838,\n        -0.030849094,\n        0.027715983,\n        -0.013195218,\n        0.0018979423,\n        0.008073786,\n        0.07305237,\n        -0.010042023,\n        -0.0037691058,\n        0.0038159685,\n        0.01745973,\n        -0.034624893,\n        -0.03299139,\n        -0.04820171,\n        -0.01851749,\n        0.017941747,\n        0.027287522,\n        -0.0041875234,\n        -0.013315722,\n        -0.036552962,\n        0.00061883964,\n        0.030367076,\n        -0.009720678,\n        -0.015933342,\n        -0.024730155,\n        0.042203274,\n        0.010403535,\n        -0.008830286,\n        -0.029510157,\n        0.0153977685,\n        0.024007129,\n        -0.021918388,\n        0.057199363,\n        -0.04980843,\n        0.018075641,\n        0.0044988263,\n        -0.0011665483,\n        -0.023444775,\n        -0.008883843,\n        0.015678944,\n        0.018169366,\n        0.029403042,\n        -0.020686567,\n        0.0144203445,\n        -0.008441994,\n        0.04991555,\n        0.022186175,\n        -0.042176496,\n        -0.005108042,\n        -0.018584436,\n        -0.015545052,\n        0.01997693,\n        -0.011454601,\n        -0.024448978,\n        -0.017245501,\n        0.007056195,\n        0.023444775,\n        0.026136037,\n        -0.008555803,\n        0.015183538,\n        -0.08269271,\n        -0.052914765,\n        -0.030768758,\n        0.0017506593,\n        -0.0066344296,\n        0.0087030865,\n        -0.010196,\n        0.05095992,\n        0.028064106,\n        0.0038460947,\n        -0.011869671,\n        0.07053517,\n        -0.0031515216,\n        0.038507808,\n        -0.0035749602,\n        0.04943353,\n        0.03639229,\n        -0.017848022,\n        0.055271294,\n        -0.01452746,\n        0.03435711,\n        -0.0009146609,\n        -0.018879002,\n        -0.0041540503,\n        0.012177627,\n        -0.0045423415,\n        0.002970765,\n        0.022574468,\n        0.038668483,\n        -0.0052251993,\n        0.033982206,\n        -0.012438719,\n        0.028439008,\n        0.031357888,\n        0.019950151,\n        0.0075181276,\n        -0.008843674,\n        0.0159869,\n        -0.052057847,\n        -0.013503173,\n        -0.053102218,\n        -0.03200058,\n        -0.026604665,\n        0.017620403,\n        0.022212954,\n        0.0064168526,\n        -0.03280394,\n        -0.027528532,\n        -0.018838834,\n        -0.010537429,\n        0.00842191,\n        0.002915534,\n        0.022895811,\n        -0.013550036,\n        0.032482598,\n        0.03216125,\n        0.02315021,\n        -0.007899725,\n        0.0110730035,\n        0.011059614,\n        -0.017553456,\n        0.008080481,\n        0.02148993,\n        0.018758498,\n        -0.000070921786,\n        0.04172126,\n        -0.037516996,\n        -0.040275205,\n        -0.0053925663,\n        0.002753188,\n        -0.028680017,\n        -0.008147428,\n        0.002950681,\n        -0.06566144,\n        -0.009272134,\n        -0.0010962541,\n        -0.00043055174,\n        0.029938618,\n        -0.0008221906,\n        -0.017205331,\n        -0.011588494,\n        -0.020097435,\n        -0.02083385,\n        -0.037597332,\n        0.031170439,\n        -0.0006862049,\n        0.036552962,\n        -0.01052404,\n        -0.019749312,\n        0.043622546,\n        -0.015384379,\n        0.0027130197,\n        0.032027356,\n        -0.011856281,\n        0.02459626,\n        -0.03561571,\n        -0.022935979,\n        -0.0006460368,\n        0.038588148,\n        -0.051308043,\n        -0.02059284,\n        0.0013523258,\n        0.007056195,\n        0.1307873,\n        -0.036285177,\n        -0.025533516,\n        0.039016604,\n        -0.010765049,\n        0.014862194,\n        0.012351688,\n        0.009191798,\n        -0.015411157,\n        0.010999362,\n        -0.0072101722,\n        -0.062126648,\n        0.0050812634,\n        0.026055701,\n        -0.05655667,\n        0.029777944,\n        0.0042076074,\n        -0.021704158,\n        0.0030745326,\n        0.07530178,\n        0.03724921,\n        0.0067013763,\n        -0.024475757,\n        -0.014326619,\n        0.035722822,\n        0.0416677,\n        -0.019695753,\n        -0.025921809,\n        0.00044059375,\n        0.0016828757,\n        0.015451326,\n        -0.031893466,\n        0.026792116,\n        -0.019588638,\n        -0.017848022,\n        0.0141927255,\n        0.009452891,\n        0.0132353855,\n        -0.05612821,\n        -0.023645617,\n        -0.025600463,\n        -0.032348704,\n        -0.010015244,\n        0.0017657223,\n        0.021315867,\n        0.033955425,\n        -0.023190377,\n        0.028760353,\n        0.008200985,\n        -0.019106623,\n        -0.02672517,\n        -0.020084046,\n        0.050156556,\n        0.02776954,\n        0.010919026,\n        -0.011421127,\n        -0.0044753947,\n        0.018731719,\n        0.010162527,\n        -0.024890827,\n        -0.002132256,\n        -0.002311339,\n        0.0018410375,\n        -0.027448196,\n        0.030634863,\n        -0.0034778873,\n        -0.0026477466,\n        0.017218722,\n        -0.02649755,\n        0.0018912476,\n        -0.031063324,\n        0.013021156,\n        0.007819388,\n        -0.018986117,\n        -0.009975076,\n        -0.023685785,\n        0.037570555,\n        0.020097435,\n        0.0046628457,\n        -0.026591277,\n        0.036579743,\n        0.003255289,\n        0.0048168236,\n        0.010704796,\n        -0.0074177072,\n        0.0024870744,\n        0.00035042476,\n        -0.014741689,\n        0.02438203,\n        -0.008127344,\n        -0.02292259,\n        0.010892248,\n        -0.027100071,\n        -0.047210895,\n        0.015853006,\n        0.00946628,\n        0.03031352,\n        0.031170439,\n        0.0046092886,\n        -0.01767396,\n        0.03890949,\n        0.020110825,\n        -0.013248775,\n        -0.020673178,\n        -0.017901579,\n        0.04731801,\n        -0.018584436,\n        -0.015129981,\n        0.030367076,\n        -0.012927431,\n        -0.00726373,\n        -0.0035615708,\n        -0.030741978,\n        -0.027408028,\n        -0.014487292,\n        0.00294566,\n        -0.018249702,\n        -0.00027845692,\n        0.006028561,\n        0.0019866468,\n        -0.01451407,\n        -0.0020301624,\n        0.009298913,\n        0.041078568,\n        -0.016294856,\n        -0.03240226,\n        -0.015076423,\n        0.004435227,\n        0.0050243586,\n        0.031652454,\n        -0.012599391,\n        -0.033152066,\n        0.004458658,\n        0.015317432,\n        -0.025774525,\n        -0.017620403,\n        -0.0006694682,\n        -0.0002111963,\n        -0.004565773,\n        -0.0024854005,\n        0.04737157,\n        0.028251557,\n        0.008254543,\n        -0.016870597,\n        0.005057832,\n        -0.022909202,\n        -0.027408028,\n        0.024315085,\n        0.0003872455,\n        -0.019843036,\n        0.0010301442,\n        0.041480247,\n        0.009499754,\n        0.019508302,\n        -0.03157212,\n        0.012586002,\n        0.009827793,\n        0.037302766,\n        -0.008990957,\n        0.02356528,\n        0.0029523547,\n        0.006875438,\n        0.01641536,\n        0.00968051,\n        -0.0076988842,\n        0.0023079915,\n        0.011695609,\n        -0.0034159613,\n        0.005901362,\n        0.014915751,\n        -0.014634575,\n        -0.037624113,\n        -0.018852225,\n        0.008334879,\n        -0.043301202,\n        -0.007009332,\n        -0.0068319226,\n        0.0067716707,\n        -0.035669263,\n        -0.02020455,\n        0.04453302,\n        -0.02080707,\n        -0.00039477702,\n        -0.006021866,\n        0.009928213,\n        0.007056195,\n        0.03301817,\n        0.014755079,\n        0.006915606,\n        0.006845312,\n        0.020017099,\n        -0.03031352,\n        0.0017422909,\n        0.025975365,\n        0.008877148,\n        -0.0003780403,\n        0.024716765,\n        -0.008067092,\n        -0.0023397913,\n        -0.0014150884,\n        0.015611998,\n        0.029081699,\n        -0.0032485945,\n        0.0007238625,\n        -0.010236168,\n        -0.0378919,\n        -0.04525605,\n        0.017432952,\n        -0.007886335,\n        0.045764845,\n        -0.0225343,\n        0.017526677,\n        0.004803434,\n        -0.000050994648,\n        -0.01641536,\n        -0.0091382405,\n        -0.0007878804,\n        0.02020455,\n        0.006587567,\n        -0.007718968,\n        -0.036579743,\n        0.0064268946,\n        0.0015983552,\n        0.059073873,\n        0.024368642,\n        -0.0103031155,\n        -0.00799345,\n        0.011601884,\n        -0.014647963,\n        -0.0014033726,\n        0.0073105926,\n        0.016803652,\n        -0.0006284633,\n        -0.020043878,\n        -0.026336879,\n        0.029403042,\n        0.0044921315,\n        -0.024489146,\n        -0.016669758,\n        0.0026527676,\n        -0.014487292,\n        -0.010731575,\n        0.022882422,\n        0.0015414505,\n        0.016723314,\n        0.022935979,\n        0.013282249,\n        0.0069289957,\n        0.0053825243,\n        0.045336384,\n        0.002351507,\n        -0.038641702,\n        -0.028921025,\n        -0.0075047384,\n        -0.010959194,\n        -0.057681378,\n        -0.028064106,\n        0.013362585,\n        0.03933795,\n        -0.057520706,\n        0.017620403,\n        -0.006179191,\n        -0.013262165,\n        -0.017499898,\n        -0.012090595,\n        -0.030902652,\n        0.011401043,\n        0.0057808575,\n        -0.036097724,\n        -0.019776091,\n        0.011314012,\n        -0.015946733,\n        -0.0056134905,\n        0.013228691,\n        0.030179625,\n        -0.033071727,\n        0.01514337,\n        0.015129981,\n        0.035053354,\n        -0.008020229,\n        -0.00081842486,\n        0.046621766,\n        0.034116097,\n        0.023243936,\n        0.023176989,\n        -0.020124214,\n        -0.014393566,\n        0.019120011,\n        0.0067716707,\n        0.0425514,\n        -0.040596552,\n        -0.04672888,\n        0.006202623,\n        -0.007953282,\n        0.015370989,\n        -0.0063566,\n        0.000101361664,\n        -0.011488074,\n        -0.04860339,\n        0.017325837,\n        0.011106477,\n        0.0056804377,\n        0.019012896,\n        0.008843674,\n        -0.017111607,\n        -0.014259673,\n        -0.00031004744,\n        0.03138467,\n        0.0089307055,\n        0.003377467,\n        0.007725663,\n        0.011240371,\n        -0.05832407,\n        0.013724098,\n        0.023110041,\n        -0.004910549,\n        0.019883204,\n        0.0075850743,\n        -0.00047532242,\n        0.055164177,\n        0.018812057,\n        -0.020847239,\n        0.04903185,\n        -0.0065440517,\n        -0.03258971,\n        0.011702304,\n        0.014353398,\n        -0.027930213,\n        0.049058627,\n        0.0010945805,\n        -0.06378693,\n        -0.035240807,\n        -0.030982988,\n        0.045577392,\n        0.03995386,\n        0.0135902045,\n        -0.0005246957,\n        0.011514853,\n        0.008221069,\n        0.033580523,\n        0.018477323,\n        0.012338298,\n        0.033580523,\n        0.007826083,\n        0.014072221,\n        0.034116097,\n        -0.018048862,\n        -0.045148935,\n        0.0012786842,\n        0.011903144,\n        0.05623533,\n        -0.024301695,\n        0.019294074,\n        -0.008770033,\n        -0.02841223,\n        0.0053892187,\n        -0.011642052,\n        -0.0031515216,\n        0.019026285,\n        -0.03352697,\n        0.026952788,\n        0.0032670046,\n        -0.00054519816,\n        0.014701521,\n        -0.01051065,\n        -0.032134473,\n        -0.00020115427,\n        0.007257035,\n        -0.026671613,\n        -0.0067951023,\n        0.0031983843,\n        0.0071365307,\n        -0.008127344,\n        -0.01621452,\n        -0.0059247934,\n        -0.02734108,\n        0.0034912766,\n        -0.021195363,\n        -0.05200429,\n        0.039230835,\n        -0.0017640487,\n        -0.027635647,\n        -0.00017385252,\n        0.064536735,\n        -0.005459513,\n        -0.0035649182,\n        0.024288306,\n        -0.043622546,\n        0.0044887844,\n        0.033098508,\n        0.0033121938,\n        0.0012067164,\n        0.03366086,\n        0.021824664,\n        0.005606796,\n        0.011099783,\n        0.0045055207,\n        0.012016954,\n        -0.013536647,\n        -0.03582994,\n        -0.026122648,\n        -0.011247066,\n        0.05955589,\n        0.007658716,\n        0.007872946,\n        -0.0020100782,\n        0.006293001,\n        -0.03727599,\n        0.0062829587,\n        -0.0053356616,\n        -0.014460512,\n        -0.052057847,\n        0.028680017,\n        0.026095869,\n        0.014406955,\n        -0.013978495,\n        -0.05302188,\n        0.007390929,\n        0.030233184,\n        -0.00037887716,\n        0.0032067527,\n        -0.020043878,\n        0.028037328,\n        -0.019401187,\n        0.017754296,\n        0.009298913,\n        0.004769961,\n        0.023083262,\n        0.012606086,\n        0.008368352,\n        -0.023873236,\n        -0.026604665,\n        -0.017419562,\n        0.010416925,\n        0.034410663,\n        -0.03599061,\n        -0.006728155,\n        0.017124996,\n        -0.0263101,\n        0.009546616,\n        0.007886335,\n        0.010162527,\n        -0.029081699,\n        0.021597043,\n        -0.008294711,\n        0.018048862,\n        -0.0076654106,\n        0.007257035,\n        -0.026149428,\n        0.015384379,\n        -0.02336444,\n        0.011260455,\n        0.015009477,\n        0.009231966,\n        0.019294074,\n        -0.026069092,\n        -0.019856427,\n        -0.0055699754,\n        -0.0031481741,\n        0.03893627,\n        -0.030875873,\n        0.028385451,\n        0.024167802,\n        0.022788696,\n        -0.013871381,\n        0.02795699,\n        -0.024315085,\n        0.02673856,\n        -0.016964324,\n        0.010945804,\n        0.0022259818,\n        0.027930213,\n        -0.01600029,\n        0.013965107,\n        -0.04528283,\n        -0.016361803,\n        0.018986117,\n        -0.016642978,\n        -0.017526677,\n        0.0225343,\n        -0.018263092,\n        0.023243936,\n        0.006165802,\n        -0.015866395,\n        -0.009426112,\n        0.00657083,\n        0.006038603,\n        0.010082191,\n        0.06287645,\n        -0.0112805385,\n        0.0294566,\n        0.0225343,\n        -0.02209245,\n        -0.015665555,\n        -0.034624893,\n        0.03277716,\n        0.013576815,\n        0.022279901,\n        -0.007886335,\n        0.014045442,\n        0.009747457,\n        0.036633298,\n        0.008354963,\n        0.007618548,\n        0.016964324,\n        0.012211099,\n        0.022748528,\n        -0.013857991,\n        0.016094016,\n        0.036740415,\n        -0.022654803,\n        -0.019079844,\n        0.04123924,\n        0.0019849732,\n        0.034812346,\n        -0.023792898,\n        0.0009472975,\n        0.014862194,\n        -0.035910275,\n        -0.013750876,\n        0.009720678,\n        0.0057875523,\n        0.0395254,\n        0.010631154,\n        -0.039927084,\n        -0.016254688,\n        -0.017084828,\n        -0.026859064,\n        -0.018637994,\n        0.03173279,\n        0.013288943,\n        -0.00511139,\n        -0.023618838,\n        0.020766903,\n        0.002661136,\n        -0.017526677,\n        -0.031518564,\n        0.025024721,\n        0.00594153,\n        0.02124892,\n        -0.011555021,\n        -0.010744965,\n        -0.041507028,\n        -0.03301817,\n        0.046220083,\n        0.0022628026,\n        0.039445065,\n        0.012023648,\n        -0.014915751,\n        -0.027046515,\n        0.062555104,\n        -0.0062427907,\n        -0.01450068,\n        0.0054327343,\n        -0.015277264,\n        -0.011621968,\n        0.028680017,\n        0.037999015,\n        -0.00205192,\n        0.0066344296,\n        -0.018637994,\n        0.02988506,\n        -0.020499116,\n        0.015745891,\n        0.008629445,\n        0.036070947,\n        0.0041507026,\n        -0.018477323,\n        0.024154412,\n        0.0027397985,\n        -0.012291436,\n        0.0023699175,\n        0.01083869,\n        0.018276481,\n        0.03518725,\n        -0.012606086,\n        0.007009332,\n        -0.0019079843,\n        -0.0041205767,\n        -0.013275554,\n        0.032321922,\n        0.026792116,\n        -0.016656369,\n        0.041105345,\n        0.009057905,\n        -0.0052218516,\n        0.005272062,\n        0.011474685,\n        -0.019909984,\n        -0.018343428,\n        0.0084955515,\n        -0.0016217866,\n        -0.0023330967,\n        0.0022644761,\n        0.014099,\n        -0.0069825533,\n        0.007946587,\n        -0.015063034,\n        -0.024368642,\n        -0.0048168236,\n        0.016147573,\n        -0.013596899,\n        -0.036713634,\n        -0.010544124,\n        -0.0059549194,\n        0.005764121,\n        -0.027260745,\n        -0.022587856,\n        -0.0416677,\n        -0.016509086,\n        0.0037389798,\n        0.043836776,\n        0.022159398,\n        0.016361803,\n        0.014152558,\n        -0.032107692,\n        0.002533937,\n        0.013088103,\n        -0.008100565,\n        -0.02063301,\n        0.011521547,\n        -0.023618838,\n        0.033366293,\n        0.015946733,\n        0.0053590927,\n        0.030340297,\n        0.02841223,\n        -0.0069289957,\n        -0.020552672,\n        0.0070963628,\n        0.005616838,\n        -0.012612781,\n        -0.023725953,\n        0.0041640922,\n        0.008047008,\n        0.0030594696,\n        0.03352697,\n        0.0036619909,\n        0.024047296,\n        0.014032053,\n        0.0047164033,\n        0.0108654685,\n        0.013643761,\n        -0.0012586002,\n        0.0060519925,\n        -0.0030410592,\n        -0.025506739,\n        -0.040462658,\n        0.0052586724,\n        -0.025198782,\n        -0.013556731,\n        -0.020017099,\n        0.004957412,\n        0.005098,\n        -0.0034644979,\n        0.016616201,\n        -0.0069490797,\n        0.022869034,\n        0.010028633,\n        0.011950007,\n        0.0052251993,\n        0.0053825243,\n        0.060734153,\n        -0.006236096,\n        -0.021891609,\n        0.030715201,\n        0.015625387,\n        0.0023130125,\n        -0.027501753,\n        0.027823098,\n        -0.026377046,\n        -0.005446124,\n        0.004271207,\n        -0.011206897,\n        0.025734358,\n        -0.007243646,\n        0.017580235,\n        0.0058779307,\n        0.00061214494,\n        -0.03320562,\n        0.011561715,\n        -0.008830286,\n        0.0016485654,\n        -0.00926544,\n        0.010644544,\n        -0.016495695,\n        -0.016870597,\n        -0.010537429,\n        -0.03853459,\n        0.0029071656,\n        0.060037907,\n        0.03200058,\n        0.020887407,\n        -0.004723098,\n        0.0002066983,\n        -0.017379394,\n        -0.023980351,\n        0.004036893,\n        -0.030554527,\n        -0.023310883,\n        -0.0051984205,\n        -0.04035554,\n        -0.03660652,\n        0.01620113,\n        -0.01891917,\n        -0.010825301,\n        0.0010326547,\n        0.016348412,\n        -0.007344066,\n        0.009238661,\n        0.020887407,\n        -0.04118568,\n        0.018490711,\n        0.0147952465,\n        -0.01874511,\n        -0.01936102,\n        -0.001752333,\n        -0.034758788,\n        -0.007243646,\n        -0.031438224,\n        0.040462658,\n        -0.015625387,\n        0.025801303,\n        -0.0021004565,\n        -0.00013033708,\n        -0.015826227,\n        -0.00047155665,\n        0.012037038,\n        -0.0033406462,\n        0.00441849,\n        -0.01408561,\n        0.02315021,\n        0.0018544268,\n        0.0083081005,\n        -0.026952788,\n        -0.007511433,\n        -0.011976786,\n        0.009439501,\n        0.0008012697,\n        -0.03264327,\n        0.0013121576,\n        0.07219545,\n        -0.016723314,\n        -0.0064201998,\n        0.001645218,\n        0.027742762,\n        0.02926915,\n        -0.012391856,\n        -0.032509375,\n        -0.0053758295,\n        0.030367076,\n        0.030661643,\n        0.022855643,\n        -0.023953572,\n        0.01745973,\n        -0.0060888133,\n        -0.0059214463,\n        0.00066151825,\n        -0.020217938,\n        0.0012636211,\n        0.030661643,\n        -0.0073239817,\n        -0.0055365018,\n        0.03893627,\n        0.017004492,\n        0.033553746,\n        0.028519345,\n        0.0028318504,\n        -0.045871958,\n        0.0032787204,\n        0.033098508,\n        -0.0041573974,\n        0.032562934,\n        -0.011836197,\n        -0.00080503547,\n        -0.016669758,\n        -0.003554876,\n        0.01642875,\n        -0.01725889,\n        0.022400405,\n        -0.0029557021,\n        0.0069557745,\n        -0.009077989,\n        -0.025814693,\n        0.013329111,\n        -0.000015180714,\n        0.012211099,\n        -0.022882422,\n        -0.0026845674,\n        0.035588928,\n        0.055592638,\n        -0.01514337,\n        0.017968526,\n        0.009452891,\n        0.008381742,\n        -0.006363295,\n        0.013208607,\n        0.0034711924,\n        -0.02629671,\n        -0.021128416,\n        -0.029751167,\n        0.028760353,\n        0.002808419,\n        0.014554238,\n        0.01725889,\n        0.004073714,\n        0.021570265,\n        0.0069356905,\n        0.004234386,\n        -0.010008549,\n        -0.018892393,\n        -0.019722532,\n        -0.0034644979,\n        -0.003457803,\n        -0.015237096,\n        -0.019026285,\n        0.046032634,\n        0.02252091,\n        -0.03028674,\n        -0.033071727,\n        0.016522475,\n        -0.003829358,\n        0.03791868,\n        0.01083869,\n        -0.0058678887,\n        -0.025761135,\n        0.00683527,\n        -0.042631734,\n        0.014380177,\n        -0.0030594696,\n        0.0047164033,\n        0.026872452,\n        -0.012278046,\n        0.022413794,\n        0.013429532,\n        -0.0055800173,\n        0.015652167,\n        -0.01997693,\n        0.010149138,\n        0.039632518,\n        -0.007056195,\n        0.01788819,\n        0.00926544,\n        -0.014219504,\n        -0.016254688,\n        -0.003245247,\n        -0.021342646,\n        0.022668192,\n        -0.047612578,\n        -0.012954209,\n        -0.034624893,\n        -0.025319288,\n        0.0059649614,\n        -0.019012896,\n        -0.008087176,\n        0.028706796,\n        0.0037456744,\n        0.046139747,\n        -0.008314795,\n        -0.029804723,\n        -0.006577525,\n        -0.00025021372,\n        0.007069584,\n        -0.019053064,\n        0.036258396,\n        -0.03430355,\n        -0.008482162,\n        -0.003641907,\n        -0.014888972,\n        -0.011307318,\n        -0.002386654,\n        -0.0017155122,\n        0.03473201,\n        -0.016442139,\n        0.031411447,\n        0.016227908,\n        0.016160961,\n        0.0051917257,\n        0.014969309,\n        0.025172004,\n        0.011508158,\n        -0.03890949,\n        -0.011414433,\n        0.051254485,\n        -0.004927286,\n        -0.05216496,\n        -0.009934908,\n        0.03853459,\n        0.0052051153,\n        -0.034839123,\n        0.039927084,\n        0.021784496,\n        0.007986755,\n        0.03534792,\n        -0.03009929,\n        0.011836197,\n        0.014955919,\n        -0.00021349758,\n        -0.050183333,\n        -0.024743544,\n        0.025935197,\n        -0.01126715,\n        -0.012137458,\n        0.019829648,\n        0.005098,\n        0.030902652,\n        0.0087030865,\n        0.04287274,\n        0.012920736,\n        0.01745973,\n        0.0038628315,\n        0.016027069,\n        0.0062662223,\n        0.030581307,\n        -0.022440573,\n        -0.004555731,\n        -0.06962469,\n        0.046755657,\n        -0.010530734,\n        0.00064812886,\n        -0.007819388,\n        -0.013208607,\n        0.010142443,\n        -0.014969309,\n        0.0035314446,\n        -0.024957774,\n        -0.008274627,\n        -0.024141023,\n        0.031170439,\n        -0.009867961,\n        -0.044666916,\n        0.025386233,\n        -0.0033657514,\n        -0.016080625,\n        0.0064503257,\n        -0.009954992,\n        -0.02292259,\n        0.03470523,\n        0.005134821,\n        -0.008334879,\n        0.013844602,\n        0.0055498914,\n        -0.035267584,\n        0.0029941965,\n        -0.014353398,\n        0.005616838,\n        0.040944673,\n        -0.0031431532,\n        -0.035214026,\n        -0.0048168236,\n        -0.001284542,\n        0.0023330967,\n        -0.0051783365,\n        -0.024890827,\n        0.0076988842,\n        -0.020874018,\n        -0.004622678,\n        0.017754296,\n        -0.025292508,\n        0.033500187,\n        -0.020914186,\n        0.0120303435,\n        0.008134038,\n        0.0005397587,\n        -0.01764718,\n        -0.028064106,\n        -0.023525111,\n        0.027555311,\n        -0.0059281406,\n        -0.0144203445,\n        0.010691407,\n        0.05869897,\n        0.006915606,\n        -0.01936102,\n        -0.010430315,\n        0.024274915,\n        -0.032134473,\n        0.014567628,\n        0.004184176,\n        -0.042631734,\n        0.008214375,\n        0.015009477,\n        0.002788335,\n        0.038507808,\n        0.005854499,\n        0.0120303435,\n        0.03724921,\n        -0.048255265,\n        -0.002666157,\n        -0.03344663,\n        0.04887118,\n        0.050210115,\n        -0.015879786,\n        0.028867468,\n        0.015545052,\n        -0.014165946,\n        0.020981133,\n        -0.038882714,\n        -0.0050444426,\n        0.022427185,\n        -0.010390147,\n        -0.020351833,\n        -0.001772417,\n        0.033232402,\n        -0.0040804087,\n        -0.025627242,\n        0.032536153,\n        0.025935197,\n        -0.014259673,\n        -0.0038728735,\n        0.009292218,\n        -0.059234545,\n        -0.017312447,\n        -0.0022393712,\n        0.038373917,\n        0.011119867,\n        0.022788696,\n        -0.0076721055,\n        0.018249702,\n        -0.030849094,\n        -0.0015104876,\n        -0.0025958628,\n        0.016669758,\n        0.0075449063,\n        -0.006390074,\n        -0.037516996,\n        -0.011226981,\n        -0.012813621,\n        0.004200913,\n        -0.0023197073,\n        0.02270836,\n        -0.0093256915,\n        0.008950789,\n        0.037409883,\n        0.023739342,\n        0.027394637,\n        0.012806926,\n        -0.031438224,\n        -0.0454435,\n        -0.01660281,\n        -0.031250775,\n        -0.036981422,\n        0.007852862,\n        0.030956209,\n        -0.0049038543,\n        -0.0014803616,\n        0.011146645,\n        0.016147573,\n        0.025105057,\n        0.018651383,\n        0.015277264\n      ]</td></tr></table>"
                    },
                    "metadata": {}
                }
            ],
            "execution_count": 4
        },
        {
            "cell_type": "markdown",
            "source": [
                "# **How to embeddding a text to a binary?**"
            ],
            "metadata": {
                "azdata_cell_guid": "06e8eb80-2a44-47e1-8137-9b469323d78f"
            },
            "attachments": {}
        },
        {
            "cell_type": "code",
            "source": [
                "DECLARE @value_embedding VARBINARY(8000);\r\n",
                "\r\n",
                "EXEC GET_EMBEDDINGS 'text-embedding-3-small', 'This text will be converted to a vector and a binary', @value_embedding OUTPUT;\r\n",
                "\r\n",
                "Select @value_embedding"
            ],
            "metadata": {
                "azdata_cell_guid": "1e7cd693-3c12-4ffa-bc36-e645004cd311",
                "language": "sql",
                "tags": []
            },
            "outputs": [],
            "execution_count": null
        },
        {
            "cell_type": "markdown",
            "source": [
                "# **Generate Embeddings​ and store Embeddings in Azure SQL**"
            ],
            "metadata": {
                "language": "sql",
                "azdata_cell_guid": "d4340db1-95d4-4b32-9416-f627bad23e51"
            },
            "attachments": {}
        },
        {
            "cell_type": "code",
            "source": [
                "-- This script converts the title and content of each article in the dbo.newsvector table \r\n",
                "-- to vector embeddings using the text-embedding-3-small model.\r\n",
                "-- The generated embeddings are then stored in the VectorBinary_title and VectorBinary_content columns.\r\n",
                "-- The script uses a cursor to iterate over each article that does not yet have embeddings.\r\n",
                "alter table newsvector add embeddings VARBINARY(8000);\r\n",
                "\r\n",
                "DECLARE @article_id INT;\r\n",
                "DECLARE @content NVARCHAR(MAX);\r\n",
                "DECLARE @content_embedding VARBINARY(8000);\r\n",
                "\r\n",
                "-- Cursor to iterate over each article that does not yet have embeddings\r\n",
                "DECLARE article_cursor CURSOR FOR\r\n",
                "    SELECT article_id, title + ':' + full_content\r\n",
                "    FROM dbo.newsvector\r\n",
                "    WHERE embeddings IS NULL;\r\n",
                "\r\n",
                "OPEN article_cursor;\r\n",
                "\r\n",
                "FETCH NEXT FROM article_cursor INTO @article_id, @content;\r\n",
                "\r\n",
                "WHILE @@FETCH_STATUS = 0\r\n",
                "BEGIN    \r\n",
                "    -- Generate the embedding for the article's content\r\n",
                "    EXEC GET_EMBEDDINGS 'text-embedding-3-small', @content, @content_embedding OUTPUT;\r\n",
                "\r\n",
                "    -- Update the VectorBinary_title and VectorBinary_content columns with the generated embeddings\r\n",
                "    UPDATE dbo.newsvector\r\n",
                "    SET embeddings = @content_embedding\r\n",
                "    WHERE article_id = @article_id;\r\n",
                "\r\n",
                "    -- Fetch the next article\r\n",
                "    FETCH NEXT FROM article_cursor INTO @article_id, @content;\r\n",
                "END;\r\n",
                "\r\n",
                "CLOSE article_cursor;\r\n",
                "DEALLOCATE article_cursor;\r\n",
                "-- End of script\r\n",
                ""
            ],
            "metadata": {
                "azdata_cell_guid": "fde28c63-de5c-4bf0-ac89-4bdc9f0e7c5b",
                "language": "sql"
            },
            "outputs": [],
            "execution_count": null
        },
        {
            "cell_type": "markdown",
            "source": [
                "# **Show the News data with the binary content**"
            ],
            "metadata": {
                "language": "sql",
                "azdata_cell_guid": "347946ec-6208-4327-ba40-c7ed5464fde1"
            },
            "attachments": {}
        },
        {
            "cell_type": "code",
            "source": [
                "select top 10 n.source_name, n.title, n.content, n.VectorBinary_content, VECTOR_TO_JSON_ARRAY(n.VectorBinary_content) as Vector_Content from newsvector n"
            ],
            "metadata": {
                "azdata_cell_guid": "64579b70-fbd6-4552-9428-e85e8d17741f",
                "language": "sql"
            },
            "outputs": [],
            "execution_count": null
        },
        {
            "cell_type": "markdown",
            "source": [
                "# **Search on News Vector Content**"
            ],
            "metadata": {
                "azdata_cell_guid": "196d875a-0f13-44a7-84dc-205edd7136ba"
            },
            "attachments": {}
        },
        {
            "cell_type": "code",
            "source": [
                "\t--Assuming you have a stored procedure to get embeddings for a given text\r\n",
                "\tDECLARE @e VARBINARY(8000);\r\n",
                "\tEXEC dbo.GET_EMBEDDINGS @model = 'text-embedding-3-small', @text = 'Generative AI', @embedding = @e OUTPUT;\r\n",
                "\r\n",
                "\tSELECT TOP(10) \r\n",
                "       VECTOR_DISTANCE('cosine', @e, VectorBinary_content) AS cosine_distance\r\n",
                "      ,[source_name]\r\n",
                "      ,[title]\r\n",
                "      ,[full_content]\r\n",
                "      ,[category]\r\n",
                "      ,[published]\r\n",
                "\tFROM newsvector\r\n",
                "\tORDER BY cosine_distance;"
            ],
            "metadata": {
                "azdata_cell_guid": "302aea4f-5c0b-4ae9-a7cd-4912482f3bbc",
                "language": "sql",
                "tags": []
            },
            "outputs": [],
            "execution_count": null
        }
    ]
}