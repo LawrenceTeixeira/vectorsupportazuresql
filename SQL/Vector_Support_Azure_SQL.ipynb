{
    "metadata": {
        "kernelspec": {
            "name": "SQL",
            "display_name": "SQL",
            "language": "sql"
        },
        "language_info": {
            "name": "sql",
            "version": ""
        }
    },
    "nbformat_minor": 2,
    "nbformat": 4,
    "cells": [
        {
            "cell_type": "markdown",
            "source": [
                "# This example uses the [Global News Dataset](https:\\www.kaggle.com\\datasets\\everydaycodings\\global-news-dataset) <span style=\"color: rgb(37, 51, 95); font-family: Merriweather, Georgia, serif; font-size: 16px;\">from&nbsp;</span>  [Kaggle](https:\\www.kaggle.com\\) dataset."
            ],
            "metadata": {
                "azdata_cell_guid": "b272e196-b886-46c6-bf8e-ef188cacfea9"
            },
            "attachments": {}
        },
        {
            "cell_type": "code",
            "source": [
                "select top 10 n.source_name, n.title, n.content, n.VectorBinary_content from newsvector n"
            ],
            "metadata": {
                "azdata_cell_guid": "bd9a423a-0e00-4832-a191-d2ef986d4656",
                "language": "sql",
                "tags": [
                    "hide_input"
                ]
            },
            "outputs": [],
            "execution_count": null
        },
        {
            "cell_type": "markdown",
            "source": [
                "# **VECTOR\\_DISTANCE FEATURE**\n",
                "\n",
                "This function calculates the distance between two vectors using a specified distance metric.\n",
                "\n",
                "The following distance metrics are supported:\n",
                "\n",
                "- cosine – Cosine distance\n",
                "    \n",
                "- euclidean – Euclidean distance\n",
                "    \n",
                "- dot – (Negative) Dot product\n",
                "    \n",
                "\n",
                "Example Syntax: The following example creates a vector with three dimensions from a string with a JSON array"
            ],
            "metadata": {
                "azdata_cell_guid": "9a80ca9f-dd15-4f88-8be7-0fc2728c64b5"
            },
            "attachments": {}
        },
        {
            "cell_type": "code",
            "source": [
                "DECLARE @v1 VARBINARY(8000) = JSON_ARRAY_TO_VECTOR('[1,1]')\r\n",
                "DECLARE @v2 VARBINARY(8000) = JSON_ARRAY_TO_VECTOR('[-1,-1]')\r\n",
                "\r\n",
                "SELECT \r\n",
                "    VECTOR_DISTANCE('euclidean', @v1, @v2) AS euclidean,\r\n",
                "    VECTOR_DISTANCE('cosine', @v1, @v2) AS cosine,\r\n",
                "    VECTOR_DISTANCE('dot', @v1, @v2) AS negative_dot_product;"
            ],
            "metadata": {
                "azdata_cell_guid": "813392ec-a325-490a-86a9-9380e44f3452",
                "language": "sql"
            },
            "outputs": [],
            "execution_count": null
        },
        {
            "cell_type": "code",
            "source": [
                "/*\r\n",
                "    PROCEDURE: [dbo].[GET_EMBEDDINGS]\r\n",
                "    DESCRIPTION:    This stored procedure is used to retrieve embeddings for a given text using the specified model. It makes use of an external REST endpoint to generate the embeddings.\r\n",
                "    PARAMETERS:\r\n",
                "    - @model: VARCHAR(MAX) - The name of the model to use for generating embeddings.    - @text: NVARCHAR(MAX) - The input text for which embeddings need to be generated.\r\n",
                "    - @embedding: VARBINARY(8000) OUTPUT - The output parameter to store the generated embeddings.\r\n",
                "    RETURNS:    None\r\n",
                "    EXAMPLE USAGE:\r\n",
                "    DECLARE @model VARCHAR(MAX) = '<model_name>';    DECLARE @text NVARCHAR(MAX) = '<input_text>';\r\n",
                "    DECLARE @embedding VARBINARY(8000);    EXEC [dbo].[GET_EMBEDDINGS] @model, @text, @embedding OUTPUT;\r\n",
                "*/\r\n",
                "SET ANSI_NULLS ON\r\n",
                "GO\r\n",
                "SET QUOTED_IDENTIFIER ON\r\n",
                "GO\r\n",
                "--ALTER PROCEDURE [dbo].[GET_EMBEDDINGS]\r\n",
                "(\r\n",
                "    @model VARCHAR(MAX),\r\n",
                "    @text NVARCHAR(MAX),\r\n",
                "    @embedding VARBINARY(8000) OUTPUT\r\n",
                ")\r\n",
                "AS\r\n",
                "BEGIN\r\n",
                "    DECLARE @retval INT, @response NVARCHAR(MAX);\r\n",
                "    DECLARE @url VARCHAR(MAX);\r\n",
                "    DECLARE @payload NVARCHAR(MAX) = JSON_OBJECT('input': @text);\r\n",
                "\r\n",
                "    -- Set the @url variable with proper concatenation before the EXEC statement\r\n",
                "    SET @url = 'https://<Your App>.openai.azure.com/openai/deployments/' + @model + '/embeddings?api-version=2024-02-15-preview';\r\n",
                "\r\n",
                "    EXEC dbo.sp_invoke_external_rest_endpoint \r\n",
                "        @url = @url,\r\n",
                "        @method = 'POST',   \r\n",
                "        @payload = @payload,   \r\n",
                "        @headers = '{\"Content-Type\":\"application/json\", \"api-key\":\"<Your Azure Open AI API Key\"}', \r\n",
                "        @response = @response OUTPUT;\r\n",
                "\r\n",
                "    -- Use JSON_QUERY to extract the embedding array directly\r\n",
                "    DECLARE @jsonArray NVARCHAR(MAX) = JSON_QUERY(@response, '$.result.data[0].embedding');\r\n",
                "\r\n",
                "    \r\n",
                "    SET @embedding = JSON_ARRAY_TO_VECTOR(@jsonArray);\r\n",
                "END"
            ],
            "metadata": {
                "azdata_cell_guid": "cbed9afa-0a30-4f3c-adac-5170d96f644f",
                "language": "sql",
                "tags": []
            },
            "outputs": [],
            "execution_count": null
        },
        {
            "cell_type": "markdown",
            "source": [
                "# How to embeddding a text to a vector?"
            ],
            "metadata": {
                "azdata_cell_guid": "113ce0c4-fe9a-44ec-8e56-23eaafe05f45"
            },
            "attachments": {}
        },
        {
            "cell_type": "code",
            "source": [
                "DECLARE @value_embedding NVARCHAR(MAX);\r\n",
                "\r\n",
                "EXEC GET_VECTOR_EMBEDDINGS 'text-embedding-3-small', 'This text will be converted to a vector', @value_embedding OUTPUT;\r\n",
                "\r\n",
                "Select @value_embedding"
            ],
            "metadata": {
                "azdata_cell_guid": "d33b0eb9-179d-4fbd-8d08-e12872c52d03",
                "language": "sql",
                "tags": []
            },
            "outputs": [],
            "execution_count": null
        },
        {
            "cell_type": "markdown",
            "source": [
                "# How to embeddding a text to a binary?"
            ],
            "metadata": {
                "azdata_cell_guid": "06e8eb80-2a44-47e1-8137-9b469323d78f"
            },
            "attachments": {}
        },
        {
            "cell_type": "code",
            "source": [
                "DECLARE @value_embedding VARBINARY(8000);\r\n",
                "\r\n",
                "EXEC GET_EMBEDDINGS 'text-embedding-3-small', 'This text will be converted to a vector and a binary', @value_embedding OUTPUT;\r\n",
                "\r\n",
                "Select @value_embedding"
            ],
            "metadata": {
                "azdata_cell_guid": "1e7cd693-3c12-4ffa-bc36-e645004cd311",
                "language": "sql",
                "tags": []
            },
            "outputs": [],
            "execution_count": null
        },
        {
            "cell_type": "code",
            "source": [
                "-- This script converts the title and content of each article in the dbo.newsvector table \r\n",
                "-- to vector embeddings using the text-embedding-3-small model.\r\n",
                "-- The generated embeddings are then stored in the VectorBinary_title and VectorBinary_content columns.\r\n",
                "-- The script uses a cursor to iterate over each article that does not yet have embeddings.\r\n",
                "alter table newsvector add embeddings VARBINARY(8000);\r\n",
                "\r\n",
                "DECLARE @article_id INT;\r\n",
                "DECLARE @content NVARCHAR(MAX);\r\n",
                "DECLARE @content_embedding VARBINARY(8000);\r\n",
                "\r\n",
                "-- Cursor to iterate over each article that does not yet have embeddings\r\n",
                "DECLARE article_cursor CURSOR FOR\r\n",
                "    SELECT article_id, title + ':' + full_content\r\n",
                "    FROM dbo.newsvector\r\n",
                "    WHERE embeddings IS NULL;\r\n",
                "\r\n",
                "OPEN article_cursor;\r\n",
                "\r\n",
                "FETCH NEXT FROM article_cursor INTO @article_id, @content;\r\n",
                "\r\n",
                "WHILE @@FETCH_STATUS = 0\r\n",
                "BEGIN    \r\n",
                "    -- Generate the embedding for the article's content\r\n",
                "    EXEC GET_EMBEDDINGS 'text-embedding-3-small', @content, @content_embedding OUTPUT;\r\n",
                "\r\n",
                "    -- Update the VectorBinary_title and VectorBinary_content columns with the generated embeddings\r\n",
                "    UPDATE dbo.newsvector\r\n",
                "    SET embeddings = @content_embedding\r\n",
                "    WHERE article_id = @article_id;\r\n",
                "\r\n",
                "    -- Fetch the next article\r\n",
                "    FETCH NEXT FROM article_cursor INTO @article_id, @content;\r\n",
                "END;\r\n",
                "\r\n",
                "CLOSE article_cursor;\r\n",
                "DEALLOCATE article_cursor;\r\n",
                "-- End of script\r\n",
                ""
            ],
            "metadata": {
                "azdata_cell_guid": "fde28c63-de5c-4bf0-ac89-4bdc9f0e7c5b",
                "language": "sql"
            },
            "outputs": [],
            "execution_count": null
        },
        {
            "cell_type": "markdown",
            "source": [
                "# Search on News Vector Content."
            ],
            "metadata": {
                "azdata_cell_guid": "196d875a-0f13-44a7-84dc-205edd7136ba"
            },
            "attachments": {}
        },
        {
            "cell_type": "code",
            "source": [
                "\t--Assuming you have a stored procedure to get embeddings for a given text\r\n",
                "\tDECLARE @e VARBINARY(8000);\r\n",
                "\tEXEC dbo.GET_EMBEDDINGS @model = 'text-embedding-3-small', @text = 'Generative AI', @embedding = @e OUTPUT;\r\n",
                "\r\n",
                "\tSELECT TOP(10) \r\n",
                "       VECTOR_DISTANCE('cosine', @e, VectorBinary_content) AS cosine_distance\r\n",
                "      ,[source_name]\r\n",
                "      ,[title]\r\n",
                "      ,[full_content]\r\n",
                "      ,[category]\r\n",
                "      ,[published]\r\n",
                "\tFROM newsvector\r\n",
                "\tORDER BY cosine_distance;"
            ],
            "metadata": {
                "azdata_cell_guid": "302aea4f-5c0b-4ae9-a7cd-4912482f3bbc",
                "language": "sql",
                "tags": []
            },
            "outputs": [],
            "execution_count": null
        }
    ]
}